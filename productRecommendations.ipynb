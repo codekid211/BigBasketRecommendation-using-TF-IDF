{
 "cells": [
  {
   "cell_type": "code",
   "execution_count": 72,
   "id": "c0ef2180-2b40-4a68-83c4-f81165caec5c",
   "metadata": {},
   "outputs": [],
   "source": [
    "#import all the necessary packages.\n",
    "import matplotlib.pyplot as plt\n",
    "import numpy as np\n",
    "import pandas as pd\n",
    "import warnings\n",
    "warnings.filterwarnings(\"ignore\")\n",
    "from nltk.corpus import stopwords\n",
    "from nltk.tokenize import word_tokenize\n",
    "import nltk\n",
    "import seaborn as sns\n",
    "from collections import Counter\n",
    "from sklearn.feature_extraction.text import CountVectorizer\n",
    "from sklearn.feature_extraction.text import TfidfVectorizer\n",
    "from sklearn.metrics.pairwise import cosine_similarity  \n",
    "from sklearn.metrics import pairwise_distances\n",
    "from scipy.sparse import hstack\n",
    "from sklearn.cluster import KMeans\n",
    "from tqdm import tqdm\n",
    "import pickle\n",
    "import re\n",
    "from scipy.sparse import hstack\n",
    "import pickle\n",
    "from sklearn.preprocessing import MinMaxScaler\n",
    "import sys"
   ]
  },
  {
   "cell_type": "code",
   "execution_count": 3,
   "id": "fda06d8b-3d1b-405b-b5c9-54fd9bfc093c",
   "metadata": {},
   "outputs": [
    {
     "data": {
      "text/html": [
       "<div>\n",
       "<style scoped>\n",
       "    .dataframe tbody tr th:only-of-type {\n",
       "        vertical-align: middle;\n",
       "    }\n",
       "\n",
       "    .dataframe tbody tr th {\n",
       "        vertical-align: top;\n",
       "    }\n",
       "\n",
       "    .dataframe thead th {\n",
       "        text-align: right;\n",
       "    }\n",
       "</style>\n",
       "<table border=\"1\" class=\"dataframe\">\n",
       "  <thead>\n",
       "    <tr style=\"text-align: right;\">\n",
       "      <th></th>\n",
       "      <th>index</th>\n",
       "      <th>product</th>\n",
       "      <th>category</th>\n",
       "      <th>sub_category</th>\n",
       "      <th>brand</th>\n",
       "      <th>sale_price</th>\n",
       "      <th>market_price</th>\n",
       "      <th>type</th>\n",
       "      <th>rating</th>\n",
       "      <th>description</th>\n",
       "    </tr>\n",
       "  </thead>\n",
       "  <tbody>\n",
       "    <tr>\n",
       "      <th>0</th>\n",
       "      <td>1</td>\n",
       "      <td>Garlic Oil - Vegetarian Capsule 500 mg</td>\n",
       "      <td>Beauty &amp; Hygiene</td>\n",
       "      <td>Hair Care</td>\n",
       "      <td>Sri Sri Ayurveda</td>\n",
       "      <td>220.0</td>\n",
       "      <td>220.0</td>\n",
       "      <td>Hair Oil &amp; Serum</td>\n",
       "      <td>4.1</td>\n",
       "      <td>This Product contains Garlic Oil that is known...</td>\n",
       "    </tr>\n",
       "    <tr>\n",
       "      <th>1</th>\n",
       "      <td>2</td>\n",
       "      <td>Water Bottle - Orange</td>\n",
       "      <td>Kitchen, Garden &amp; Pets</td>\n",
       "      <td>Storage &amp; Accessories</td>\n",
       "      <td>Mastercook</td>\n",
       "      <td>180.0</td>\n",
       "      <td>180.0</td>\n",
       "      <td>Water &amp; Fridge Bottles</td>\n",
       "      <td>2.3</td>\n",
       "      <td>Each product is microwave safe (without lid), ...</td>\n",
       "    </tr>\n",
       "    <tr>\n",
       "      <th>2</th>\n",
       "      <td>3</td>\n",
       "      <td>Brass Angle Deep - Plain, No.2</td>\n",
       "      <td>Cleaning &amp; Household</td>\n",
       "      <td>Pooja Needs</td>\n",
       "      <td>Trm</td>\n",
       "      <td>119.0</td>\n",
       "      <td>250.0</td>\n",
       "      <td>Lamp &amp; Lamp Oil</td>\n",
       "      <td>3.4</td>\n",
       "      <td>A perfect gift for all occasions, be it your m...</td>\n",
       "    </tr>\n",
       "  </tbody>\n",
       "</table>\n",
       "</div>"
      ],
      "text/plain": [
       "   index                                 product                category  \\\n",
       "0      1  Garlic Oil - Vegetarian Capsule 500 mg        Beauty & Hygiene   \n",
       "1      2                   Water Bottle - Orange  Kitchen, Garden & Pets   \n",
       "2      3          Brass Angle Deep - Plain, No.2    Cleaning & Household   \n",
       "\n",
       "            sub_category              brand  sale_price  market_price  \\\n",
       "0              Hair Care  Sri Sri Ayurveda        220.0         220.0   \n",
       "1  Storage & Accessories         Mastercook       180.0         180.0   \n",
       "2            Pooja Needs                Trm       119.0         250.0   \n",
       "\n",
       "                     type  rating  \\\n",
       "0        Hair Oil & Serum     4.1   \n",
       "1  Water & Fridge Bottles     2.3   \n",
       "2         Lamp & Lamp Oil     3.4   \n",
       "\n",
       "                                         description  \n",
       "0  This Product contains Garlic Oil that is known...  \n",
       "1  Each product is microwave safe (without lid), ...  \n",
       "2  A perfect gift for all occasions, be it your m...  "
      ]
     },
     "execution_count": 3,
     "metadata": {},
     "output_type": "execute_result"
    }
   ],
   "source": [
    "data=pd.read_csv(\"C:\\\\Users\\\\harshita.chigati\\\\Desktop\\\\Python files\\\\NLP\\\\BigBasket Products.csv\")\n",
    "data.head(3)"
   ]
  },
  {
   "cell_type": "code",
   "execution_count": 4,
   "id": "b06e6aee-80ad-4046-a179-fadd7582e93c",
   "metadata": {},
   "outputs": [
    {
     "name": "stdout",
     "output_type": "stream",
     "text": [
      "Number of data points :  27555 \n",
      "Number of features/variables: 10\n"
     ]
    }
   ],
   "source": [
    "print ('Number of data points : ', data.shape[0],'\\nNumber of features/variables:', data.shape[1])"
   ]
  },
  {
   "cell_type": "code",
   "execution_count": 5,
   "id": "03656d75-9bee-42c7-8482-721616fe00f9",
   "metadata": {},
   "outputs": [
    {
     "data": {
      "text/plain": [
       "Index(['index', 'product', 'category', 'sub_category', 'brand', 'sale_price',\n",
       "       'market_price', 'type', 'rating', 'description'],\n",
       "      dtype='object')"
      ]
     },
     "execution_count": 5,
     "metadata": {},
     "output_type": "execute_result"
    }
   ],
   "source": [
    "# each product/item has 10 features in the raw dataset.\n",
    "data.columns # prints column-names or feature-names."
   ]
  },
  {
   "cell_type": "code",
   "execution_count": 6,
   "id": "344524cb-13a6-42de-b4a7-fba0f9469796",
   "metadata": {},
   "outputs": [
    {
     "name": "stdout",
     "output_type": "stream",
     "text": [
      "<class 'pandas.core.frame.DataFrame'>\n",
      "RangeIndex: 27555 entries, 0 to 27554\n",
      "Data columns (total 10 columns):\n",
      " #   Column        Non-Null Count  Dtype  \n",
      "---  ------        --------------  -----  \n",
      " 0   index         27555 non-null  int64  \n",
      " 1   product       27554 non-null  object \n",
      " 2   category      27555 non-null  object \n",
      " 3   sub_category  27555 non-null  object \n",
      " 4   brand         27554 non-null  object \n",
      " 5   sale_price    27555 non-null  float64\n",
      " 6   market_price  27555 non-null  float64\n",
      " 7   type          27555 non-null  object \n",
      " 8   rating        18929 non-null  float64\n",
      " 9   description   27440 non-null  object \n",
      "dtypes: float64(3), int64(1), object(6)\n",
      "memory usage: 2.1+ MB\n"
     ]
    }
   ],
   "source": [
    "# info about the data features\n",
    "data.info()"
   ]
  },
  {
   "cell_type": "code",
   "execution_count": 7,
   "id": "0dda327e-c8be-4783-84c2-aba177f3dd6b",
   "metadata": {},
   "outputs": [
    {
     "data": {
      "text/plain": [
       "index              0\n",
       "product            1\n",
       "category           0\n",
       "sub_category       0\n",
       "brand              1\n",
       "sale_price         0\n",
       "market_price       0\n",
       "type               0\n",
       "rating          8626\n",
       "description      115\n",
       "dtype: int64"
      ]
     },
     "execution_count": 7,
     "metadata": {},
     "output_type": "execute_result"
    }
   ],
   "source": [
    "# to know null values in each column\n",
    "data.isnull().sum()"
   ]
  },
  {
   "cell_type": "code",
   "execution_count": 8,
   "id": "24c6f3cf-41af-4702-8245-40d4399bf64c",
   "metadata": {},
   "outputs": [
    {
     "data": {
      "text/html": [
       "<div>\n",
       "<style scoped>\n",
       "    .dataframe tbody tr th:only-of-type {\n",
       "        vertical-align: middle;\n",
       "    }\n",
       "\n",
       "    .dataframe tbody tr th {\n",
       "        vertical-align: top;\n",
       "    }\n",
       "\n",
       "    .dataframe thead th {\n",
       "        text-align: right;\n",
       "    }\n",
       "</style>\n",
       "<table border=\"1\" class=\"dataframe\">\n",
       "  <thead>\n",
       "    <tr style=\"text-align: right;\">\n",
       "      <th></th>\n",
       "      <th>product</th>\n",
       "      <th>category</th>\n",
       "      <th>sub_category</th>\n",
       "      <th>brand</th>\n",
       "      <th>type</th>\n",
       "      <th>description</th>\n",
       "      <th>sale_price</th>\n",
       "      <th>market_price</th>\n",
       "    </tr>\n",
       "  </thead>\n",
       "  <tbody>\n",
       "    <tr>\n",
       "      <th>0</th>\n",
       "      <td>Garlic Oil - Vegetarian Capsule 500 mg</td>\n",
       "      <td>Beauty &amp; Hygiene</td>\n",
       "      <td>Hair Care</td>\n",
       "      <td>Sri Sri Ayurveda</td>\n",
       "      <td>Hair Oil &amp; Serum</td>\n",
       "      <td>This Product contains Garlic Oil that is known...</td>\n",
       "      <td>220.0</td>\n",
       "      <td>220.0</td>\n",
       "    </tr>\n",
       "    <tr>\n",
       "      <th>1</th>\n",
       "      <td>Water Bottle - Orange</td>\n",
       "      <td>Kitchen, Garden &amp; Pets</td>\n",
       "      <td>Storage &amp; Accessories</td>\n",
       "      <td>Mastercook</td>\n",
       "      <td>Water &amp; Fridge Bottles</td>\n",
       "      <td>Each product is microwave safe (without lid), ...</td>\n",
       "      <td>180.0</td>\n",
       "      <td>180.0</td>\n",
       "    </tr>\n",
       "  </tbody>\n",
       "</table>\n",
       "</div>"
      ],
      "text/plain": [
       "                                  product                category  \\\n",
       "0  Garlic Oil - Vegetarian Capsule 500 mg        Beauty & Hygiene   \n",
       "1                   Water Bottle - Orange  Kitchen, Garden & Pets   \n",
       "\n",
       "            sub_category              brand                    type  \\\n",
       "0              Hair Care  Sri Sri Ayurveda         Hair Oil & Serum   \n",
       "1  Storage & Accessories         Mastercook  Water & Fridge Bottles   \n",
       "\n",
       "                                         description  sale_price  market_price  \n",
       "0  This Product contains Garlic Oil that is known...       220.0         220.0  \n",
       "1  Each product is microwave safe (without lid), ...       180.0         180.0  "
      ]
     },
     "execution_count": 8,
     "metadata": {},
     "output_type": "execute_result"
    }
   ],
   "source": [
    "# selecting the required columns from dataframe for analysis and model building\n",
    "data=data[['product','category','sub_category','brand','type','description','sale_price','market_price']]\n",
    "data.head(2)"
   ]
  },
  {
   "cell_type": "code",
   "execution_count": 9,
   "id": "234a804b-0718-4e40-9c41-a4d02ca2304a",
   "metadata": {},
   "outputs": [
    {
     "data": {
      "text/plain": [
       "(27439, 8)"
      ]
     },
     "execution_count": 9,
     "metadata": {},
     "output_type": "execute_result"
    }
   ],
   "source": [
    "# will remove rows with missing value in columns product,brand,description\n",
    "data=data[~data['product'].isna()] # removing row with missing product value\n",
    "data=data[~data['brand'].isna()]\n",
    "data=data[~data['description'].isna()]\n",
    "data.shape"
   ]
  },
  {
   "cell_type": "code",
   "execution_count": 10,
   "id": "3c1e315f-7475-437c-8a72-49544b700799",
   "metadata": {},
   "outputs": [
    {
     "name": "stdout",
     "output_type": "stream",
     "text": [
      "data_train shape (21951, 8)\n",
      "data_test shape (5488, 8)\n"
     ]
    }
   ],
   "source": [
    "# splitting data into train and test \n",
    "from sklearn.model_selection import train_test_split\n",
    "\n",
    "data_train,data_test=train_test_split(data,test_size=0.2,random_state=33)\n",
    "\n",
    "print('data_train shape',data_train.shape)\n",
    "print('data_test shape',data_test.shape)"
   ]
  },
  {
   "cell_type": "code",
   "execution_count": 11,
   "id": "4e745817-f1a1-4675-9947-c61ff7995b11",
   "metadata": {},
   "outputs": [],
   "source": [
    "# resetting index\n",
    "data_train=data_train.reset_index(drop=True)\n",
    "data_test=data_test.reset_index(drop=True)"
   ]
  },
  {
   "cell_type": "markdown",
   "id": "0cdca914-dc23-43cb-b129-355071b00036",
   "metadata": {},
   "source": [
    "## EDA on Train data"
   ]
  },
  {
   "cell_type": "code",
   "execution_count": 12,
   "id": "d219d63a-e3ba-4ecb-8278-778c85936856",
   "metadata": {},
   "outputs": [
    {
     "data": {
      "text/plain": [
       "Index(['product', 'category', 'sub_category', 'brand', 'type', 'description',\n",
       "       'sale_price', 'market_price'],\n",
       "      dtype='object')"
      ]
     },
     "execution_count": 12,
     "metadata": {},
     "output_type": "execute_result"
    }
   ],
   "source": [
    "data_train.columns"
   ]
  },
  {
   "cell_type": "code",
   "execution_count": 13,
   "id": "f88e0af7-49b8-467f-810e-5109a156797f",
   "metadata": {},
   "outputs": [
    {
     "data": {
      "text/plain": [
       "count                            21951\n",
       "unique                           19301\n",
       "top       Turmeric Powder/Arisina Pudi\n",
       "freq                                21\n",
       "Name: product, dtype: object"
      ]
     },
     "execution_count": 13,
     "metadata": {},
     "output_type": "execute_result"
    }
   ],
   "source": [
    "# Univariate Analysis for feature 'product'\n",
    "data_train['product'].describe()"
   ]
  },
  {
   "cell_type": "code",
   "execution_count": 14,
   "id": "2ddd7931-b2d9-44c5-beaa-57ff7ceb89e3",
   "metadata": {},
   "outputs": [
    {
     "data": {
      "text/plain": [
       "count                21951\n",
       "unique                  11\n",
       "top       Beauty & Hygiene\n",
       "freq                  6306\n",
       "Name: category, dtype: object"
      ]
     },
     "execution_count": 14,
     "metadata": {},
     "output_type": "execute_result"
    }
   ],
   "source": [
    "# Univariate Analysis For feature category\n",
    "data_train['category'].describe()"
   ]
  },
  {
   "cell_type": "code",
   "execution_count": 15,
   "id": "4983d005-725c-4cf9-9ddd-e6e521c7bb04",
   "metadata": {},
   "outputs": [
    {
     "data": {
      "text/html": [
       "<div>\n",
       "<style scoped>\n",
       "    .dataframe tbody tr th:only-of-type {\n",
       "        vertical-align: middle;\n",
       "    }\n",
       "\n",
       "    .dataframe tbody tr th {\n",
       "        vertical-align: top;\n",
       "    }\n",
       "\n",
       "    .dataframe thead th {\n",
       "        text-align: right;\n",
       "    }\n",
       "</style>\n",
       "<table border=\"1\" class=\"dataframe\">\n",
       "  <thead>\n",
       "    <tr style=\"text-align: right;\">\n",
       "      <th></th>\n",
       "      <th>category</th>\n",
       "      <th>counts</th>\n",
       "    </tr>\n",
       "  </thead>\n",
       "  <tbody>\n",
       "    <tr>\n",
       "      <th>0</th>\n",
       "      <td>Beauty &amp; Hygiene</td>\n",
       "      <td>6306</td>\n",
       "    </tr>\n",
       "    <tr>\n",
       "      <th>1</th>\n",
       "      <td>Gourmet &amp; World Food</td>\n",
       "      <td>3736</td>\n",
       "    </tr>\n",
       "    <tr>\n",
       "      <th>2</th>\n",
       "      <td>Kitchen, Garden &amp; Pets</td>\n",
       "      <td>2838</td>\n",
       "    </tr>\n",
       "    <tr>\n",
       "      <th>3</th>\n",
       "      <td>Snacks &amp; Branded Foods</td>\n",
       "      <td>2245</td>\n",
       "    </tr>\n",
       "    <tr>\n",
       "      <th>4</th>\n",
       "      <td>Cleaning &amp; Household</td>\n",
       "      <td>2128</td>\n",
       "    </tr>\n",
       "    <tr>\n",
       "      <th>5</th>\n",
       "      <td>Foodgrains, Oil &amp; Masala</td>\n",
       "      <td>2099</td>\n",
       "    </tr>\n",
       "    <tr>\n",
       "      <th>6</th>\n",
       "      <td>Beverages</td>\n",
       "      <td>701</td>\n",
       "    </tr>\n",
       "    <tr>\n",
       "      <th>7</th>\n",
       "      <td>Bakery, Cakes &amp; Dairy</td>\n",
       "      <td>685</td>\n",
       "    </tr>\n",
       "    <tr>\n",
       "      <th>8</th>\n",
       "      <td>Baby Care</td>\n",
       "      <td>495</td>\n",
       "    </tr>\n",
       "    <tr>\n",
       "      <th>9</th>\n",
       "      <td>Fruits &amp; Vegetables</td>\n",
       "      <td>443</td>\n",
       "    </tr>\n",
       "    <tr>\n",
       "      <th>10</th>\n",
       "      <td>Eggs, Meat &amp; Fish</td>\n",
       "      <td>275</td>\n",
       "    </tr>\n",
       "  </tbody>\n",
       "</table>\n",
       "</div>"
      ],
      "text/plain": [
       "                    category  counts\n",
       "0           Beauty & Hygiene    6306\n",
       "1       Gourmet & World Food    3736\n",
       "2     Kitchen, Garden & Pets    2838\n",
       "3     Snacks & Branded Foods    2245\n",
       "4       Cleaning & Household    2128\n",
       "5   Foodgrains, Oil & Masala    2099\n",
       "6                  Beverages     701\n",
       "7      Bakery, Cakes & Dairy     685\n",
       "8                  Baby Care     495\n",
       "9        Fruits & Vegetables     443\n",
       "10         Eggs, Meat & Fish     275"
      ]
     },
     "execution_count": 15,
     "metadata": {},
     "output_type": "execute_result"
    }
   ],
   "source": [
    "d1=data_train['category'].value_counts().reset_index()\n",
    "d1.columns=['category','counts']\n",
    "d1"
   ]
  },
  {
   "cell_type": "code",
   "execution_count": 16,
   "id": "bb1b9074-4e8a-4370-a2f9-72e8ddefd452",
   "metadata": {},
   "outputs": [
    {
     "data": {
      "text/html": [
       "<div>\n",
       "<style scoped>\n",
       "    .dataframe tbody tr th:only-of-type {\n",
       "        vertical-align: middle;\n",
       "    }\n",
       "\n",
       "    .dataframe tbody tr th {\n",
       "        vertical-align: top;\n",
       "    }\n",
       "\n",
       "    .dataframe thead th {\n",
       "        text-align: right;\n",
       "    }\n",
       "</style>\n",
       "<table border=\"1\" class=\"dataframe\">\n",
       "  <thead>\n",
       "    <tr style=\"text-align: right;\">\n",
       "      <th></th>\n",
       "      <th>category</th>\n",
       "      <th>%</th>\n",
       "      <th>cumulative%</th>\n",
       "    </tr>\n",
       "  </thead>\n",
       "  <tbody>\n",
       "    <tr>\n",
       "      <th>0</th>\n",
       "      <td>Beauty &amp; Hygiene</td>\n",
       "      <td>0.287276</td>\n",
       "      <td>Beauty &amp; Hygiene</td>\n",
       "    </tr>\n",
       "    <tr>\n",
       "      <th>1</th>\n",
       "      <td>Gourmet &amp; World Food</td>\n",
       "      <td>0.170197</td>\n",
       "      <td>Beauty &amp; HygieneGourmet &amp; World Food</td>\n",
       "    </tr>\n",
       "    <tr>\n",
       "      <th>2</th>\n",
       "      <td>Kitchen, Garden &amp; Pets</td>\n",
       "      <td>0.129288</td>\n",
       "      <td>Beauty &amp; HygieneGourmet &amp; World FoodKitchen, G...</td>\n",
       "    </tr>\n",
       "    <tr>\n",
       "      <th>3</th>\n",
       "      <td>Snacks &amp; Branded Foods</td>\n",
       "      <td>0.102273</td>\n",
       "      <td>Beauty &amp; HygieneGourmet &amp; World FoodKitchen, G...</td>\n",
       "    </tr>\n",
       "    <tr>\n",
       "      <th>4</th>\n",
       "      <td>Cleaning &amp; Household</td>\n",
       "      <td>0.096943</td>\n",
       "      <td>Beauty &amp; HygieneGourmet &amp; World FoodKitchen, G...</td>\n",
       "    </tr>\n",
       "    <tr>\n",
       "      <th>5</th>\n",
       "      <td>Foodgrains, Oil &amp; Masala</td>\n",
       "      <td>0.095622</td>\n",
       "      <td>Beauty &amp; HygieneGourmet &amp; World FoodKitchen, G...</td>\n",
       "    </tr>\n",
       "    <tr>\n",
       "      <th>6</th>\n",
       "      <td>Beverages</td>\n",
       "      <td>0.031935</td>\n",
       "      <td>Beauty &amp; HygieneGourmet &amp; World FoodKitchen, G...</td>\n",
       "    </tr>\n",
       "    <tr>\n",
       "      <th>7</th>\n",
       "      <td>Bakery, Cakes &amp; Dairy</td>\n",
       "      <td>0.031206</td>\n",
       "      <td>Beauty &amp; HygieneGourmet &amp; World FoodKitchen, G...</td>\n",
       "    </tr>\n",
       "    <tr>\n",
       "      <th>8</th>\n",
       "      <td>Baby Care</td>\n",
       "      <td>0.022550</td>\n",
       "      <td>Beauty &amp; HygieneGourmet &amp; World FoodKitchen, G...</td>\n",
       "    </tr>\n",
       "    <tr>\n",
       "      <th>9</th>\n",
       "      <td>Fruits &amp; Vegetables</td>\n",
       "      <td>0.020181</td>\n",
       "      <td>Beauty &amp; HygieneGourmet &amp; World FoodKitchen, G...</td>\n",
       "    </tr>\n",
       "    <tr>\n",
       "      <th>10</th>\n",
       "      <td>Eggs, Meat &amp; Fish</td>\n",
       "      <td>0.012528</td>\n",
       "      <td>Beauty &amp; HygieneGourmet &amp; World FoodKitchen, G...</td>\n",
       "    </tr>\n",
       "  </tbody>\n",
       "</table>\n",
       "</div>"
      ],
      "text/plain": [
       "                    category         %  \\\n",
       "0           Beauty & Hygiene  0.287276   \n",
       "1       Gourmet & World Food  0.170197   \n",
       "2     Kitchen, Garden & Pets  0.129288   \n",
       "3     Snacks & Branded Foods  0.102273   \n",
       "4       Cleaning & Household  0.096943   \n",
       "5   Foodgrains, Oil & Masala  0.095622   \n",
       "6                  Beverages  0.031935   \n",
       "7      Bakery, Cakes & Dairy  0.031206   \n",
       "8                  Baby Care  0.022550   \n",
       "9        Fruits & Vegetables  0.020181   \n",
       "10         Eggs, Meat & Fish  0.012528   \n",
       "\n",
       "                                          cumulative%  \n",
       "0                                    Beauty & Hygiene  \n",
       "1                Beauty & HygieneGourmet & World Food  \n",
       "2   Beauty & HygieneGourmet & World FoodKitchen, G...  \n",
       "3   Beauty & HygieneGourmet & World FoodKitchen, G...  \n",
       "4   Beauty & HygieneGourmet & World FoodKitchen, G...  \n",
       "5   Beauty & HygieneGourmet & World FoodKitchen, G...  \n",
       "6   Beauty & HygieneGourmet & World FoodKitchen, G...  \n",
       "7   Beauty & HygieneGourmet & World FoodKitchen, G...  \n",
       "8   Beauty & HygieneGourmet & World FoodKitchen, G...  \n",
       "9   Beauty & HygieneGourmet & World FoodKitchen, G...  \n",
       "10  Beauty & HygieneGourmet & World FoodKitchen, G...  "
      ]
     },
     "execution_count": 16,
     "metadata": {},
     "output_type": "execute_result"
    }
   ],
   "source": [
    "# calculating the percentage distribution of the 'category' column\n",
    "cate=data_train['category'].value_counts(normalize=True).reset_index() # creating data frame with name cate for further processing\n",
    "cate['cumulative%']= cate['category'].cumsum()\n",
    "cate.columns=['category','%','cumulative%']\n",
    "cate"
   ]
  },
  {
   "cell_type": "code",
   "execution_count": 17,
   "id": "614efde6-4a35-4dad-bcd5-ab9b27378590",
   "metadata": {},
   "outputs": [
    {
     "ename": "TypeError",
     "evalue": "unsupported operand type(s) for -: 'str' and 'float'",
     "output_type": "error",
     "traceback": [
      "\u001b[1;31m---------------------------------------------------------------------------\u001b[0m",
      "\u001b[1;31mTypeError\u001b[0m                                 Traceback (most recent call last)",
      "Cell \u001b[1;32mIn[17], line 15\u001b[0m\n\u001b[0;32m     12\u001b[0m ax2\u001b[38;5;241m=\u001b[39msns\u001b[38;5;241m.\u001b[39mlineplot(x\u001b[38;5;241m=\u001b[39m\u001b[38;5;124m'\u001b[39m\u001b[38;5;124mcategory\u001b[39m\u001b[38;5;124m'\u001b[39m,y\u001b[38;5;241m=\u001b[39m\u001b[38;5;124m'\u001b[39m\u001b[38;5;124mcumulative\u001b[39m\u001b[38;5;124m%\u001b[39m\u001b[38;5;124m'\u001b[39m,data\u001b[38;5;241m=\u001b[39mcate,marker\u001b[38;5;241m=\u001b[39m\u001b[38;5;124m\"\u001b[39m\u001b[38;5;124mo\u001b[39m\u001b[38;5;124m\"\u001b[39m,color\u001b[38;5;241m=\u001b[39m\u001b[38;5;124m'\u001b[39m\u001b[38;5;124mr\u001b[39m\u001b[38;5;124m'\u001b[39m)\n\u001b[0;32m     14\u001b[0m \u001b[38;5;28;01mfor\u001b[39;00m i,value \u001b[38;5;129;01min\u001b[39;00m \u001b[38;5;28menumerate\u001b[39m(cate[\u001b[38;5;124m'\u001b[39m\u001b[38;5;124mcumulative\u001b[39m\u001b[38;5;124m%\u001b[39m\u001b[38;5;124m'\u001b[39m]\u001b[38;5;241m.\u001b[39mvalues): \u001b[38;5;66;03m# to annotate line plot \u001b[39;00m\n\u001b[1;32m---> 15\u001b[0m     ax2\u001b[38;5;241m.\u001b[39mtext(cate[\u001b[38;5;124m'\u001b[39m\u001b[38;5;124mcategory\u001b[39m\u001b[38;5;124m'\u001b[39m]\u001b[38;5;241m.\u001b[39mvalues[i],\u001b[43mcate\u001b[49m\u001b[43m[\u001b[49m\u001b[38;5;124;43m'\u001b[39;49m\u001b[38;5;124;43mcumulative\u001b[39;49m\u001b[38;5;124;43m%\u001b[39;49m\u001b[38;5;124;43m'\u001b[39;49m\u001b[43m]\u001b[49m\u001b[38;5;241;43m.\u001b[39;49m\u001b[43mvalues\u001b[49m\u001b[43m[\u001b[49m\u001b[43mi\u001b[49m\u001b[43m]\u001b[49m\u001b[38;5;241;43m-\u001b[39;49m\u001b[38;5;241;43m0.0025\u001b[39;49m,np\u001b[38;5;241m.\u001b[39mround(value\u001b[38;5;241m*\u001b[39m\u001b[38;5;241m100\u001b[39m,\u001b[38;5;241m2\u001b[39m))\n\u001b[0;32m     16\u001b[0m     \u001b[38;5;66;03m# putting text of cum_% value with respect to its x,y values\u001b[39;00m\n\u001b[0;32m     17\u001b[0m     \u001b[38;5;66;03m#ax2,text(x-coordinate,ycordinate,value) # position of annotation\u001b[39;00m\n\u001b[0;32m     18\u001b[0m ax\u001b[38;5;241m.\u001b[39mset_title(\u001b[38;5;124m'\u001b[39m\u001b[38;5;124mUnivariate Analysis of Category\u001b[39m\u001b[38;5;124m'\u001b[39m) \u001b[38;5;66;03m# title the graph\u001b[39;00m\n",
      "\u001b[1;31mTypeError\u001b[0m: unsupported operand type(s) for -: 'str' and 'float'"
     ]
    },
    {
     "data": {
      "image/png": "[encoded data removed]",
      "text/plain": [
       "<Figure size 1200x500 with 2 Axes>"
      ]
     },
     "metadata": {},
     "output_type": "display_data"
    }
   ],
   "source": [
    "plt.figure(figsize=(12,5))\n",
    "ax=sns.barplot(x='category',y='counts',data=d1,palette=\"Blues_d\")\n",
    "ax.set_xticklabels(ax.get_xticklabels(), rotation=40,ha=\"right\")\n",
    "for bar in ax.patches: # annotating bar graph \n",
    "    ax.annotate(format(bar.get_height(), '.0f'),\n",
    "                   (bar.get_x() + bar.get_width() / 2,\n",
    "                    bar.get_height()), ha='center', va='center',\n",
    "                   size=8, xytext=(0, 8),\n",
    "                   textcoords='offset points')\n",
    "    \n",
    "ax2=ax.twinx() # to include line graph with bar graph in same plot\n",
    "ax2=sns.lineplot(x='category',y='cumulative%',data=cate,marker=\"o\",color='r')\n",
    "\n",
    "for i,value in enumerate(cate['cumulative%'].values): # to annotate line plot \n",
    "    ax2.text(cate['category'].values[i],cate['cumulative%'].values[i]-0.0025,np.round(value*100,2))\n",
    "    # putting text of cum_% value with respect to its x,y values\n",
    "    #ax2,text(x-coordinate,ycordinate,value) # position of annotation\n",
    "ax.set_title('Univariate Analysis of Category') # title the graph\n",
    "plt.tight_layout()\n",
    "plt.show()"
   ]
  },
  {
   "cell_type": "code",
   "execution_count": 18,
   "id": "86e61d4d-b84c-44ad-93b3-97ea3395cfc4",
   "metadata": {},
   "outputs": [
    {
     "data": {
      "text/plain": [
       "count         21951\n",
       "unique           90\n",
       "top       Skin Care\n",
       "freq           1814\n",
       "Name: sub_category, dtype: object"
      ]
     },
     "execution_count": 18,
     "metadata": {},
     "output_type": "execute_result"
    }
   ],
   "source": [
    "# For feature 'sub_category'\n",
    "data_train['sub_category'].describe()"
   ]
  },
  {
   "cell_type": "code",
   "execution_count": 19,
   "id": "b27446d0-212a-4613-a5cc-3b6581c26e65",
   "metadata": {},
   "outputs": [
    {
     "data": {
      "text/plain": [
       "sub_category\n",
       "Skin Care                   1814\n",
       "Health & Medicine            927\n",
       "Hair Care                    830\n",
       "Fragrances & Deos            822\n",
       "Storage & Accessories        821\n",
       "                            ... \n",
       "Mutton & Lamb                 18\n",
       "Water                         14\n",
       "Flower Bouquets, Bunches       8\n",
       "Pork & Other Meats             2\n",
       "Marinades                      1\n",
       "Name: count, Length: 90, dtype: int64"
      ]
     },
     "execution_count": 19,
     "metadata": {},
     "output_type": "execute_result"
    }
   ],
   "source": [
    "data_train['sub_category'].value_counts()"
   ]
  },
  {
   "cell_type": "code",
   "execution_count": 20,
   "id": "3cf3449a-fee6-4515-bba7-18c59172e272",
   "metadata": {},
   "outputs": [
    {
     "data": {
      "text/plain": [
       "sub_category\n",
       "Skin Care                   8.263860\n",
       "Health & Medicine           4.223042\n",
       "Hair Care                   3.781149\n",
       "Fragrances & Deos           3.744704\n",
       "Storage & Accessories       3.740149\n",
       "                              ...   \n",
       "Mutton & Lamb               0.082001\n",
       "Water                       0.063778\n",
       "Flower Bouquets, Bunches    0.036445\n",
       "Pork & Other Meats          0.009111\n",
       "Marinades                   0.004556\n",
       "Name: proportion, Length: 90, dtype: float64"
      ]
     },
     "execution_count": 20,
     "metadata": {},
     "output_type": "execute_result"
    }
   ],
   "source": [
    "data_train['sub_category'].value_counts(normalize=True)*100 # To get percentage\n"
   ]
  },
  {
   "cell_type": "code",
   "execution_count": 21,
   "id": "1829583d-51a8-4fa8-a184-614fe8c643c9",
   "metadata": {},
   "outputs": [
    {
     "data": {
      "text/plain": [
       "array(['Organic Staples', 'Frozen Veggies & Snacks',\n",
       "       'Rice & Rice Products', 'Cooking & Baking Needs',\n",
       "       'Drinks & Beverages', 'Fragrances & Deos', 'All Purpose Cleaners',\n",
       "       'Snacks, Dry Fruits, Nuts', 'Storage & Accessories',\n",
       "       'Fresheners & Repellents', 'Diapers & Wipes', 'Masalas & Spices',\n",
       "       'Tea', 'Snacks & Namkeen', 'Party & Festive Needs',\n",
       "       'Cereals & Breakfast', 'Tinned & Processed Food',\n",
       "       'Health & Medicine', 'Dry Fruits', 'Pooja Needs', 'Dairy',\n",
       "       'Appliances & Electricals', 'Hair Care', 'Ready To Cook & Eat',\n",
       "       'Pet Food & Accessories', 'Skin Care', 'Crockery & Cutlery',\n",
       "       \"Men's Grooming\", 'Fish & Seafood', 'Pasta, Soup & Noodles',\n",
       "       'Organic Fruits & Vegetables', 'Oils & Vinegar',\n",
       "       'Spreads, Sauces, Ketchup', 'Steel Utensils', 'Bakeware',\n",
       "       'Oral Care', 'Detergents & Dishwash', 'Bath & Hand Wash',\n",
       "       'Cakes & Pastries', 'Sauces, Spreads & Dips', 'Fresh Vegetables',\n",
       "       'Noodle, Pasta, Vermicelli', 'Bins & Bathroom Ware',\n",
       "       'Mops, Brushes & Scrubs', 'Chocolates & Biscuits',\n",
       "       'Health Drink, Supplement', 'Breakfast Cereals',\n",
       "       'Cookies, Rusk & Khari', 'Fruit Juices & Drinks',\n",
       "       'Feminine Hygiene', 'Baby Food & Formula',\n",
       "       'Disposables, Garbage Bag', 'Feeding & Nursing', 'Stationery',\n",
       "       'Kitchen Accessories', 'Makeup', 'Baby Bath & Hygiene',\n",
       "       'Sausages, Bacon & Salami', 'Eggs', 'Dairy & Cheese',\n",
       "       'Biscuits & Cookies', 'Atta, Flours & Sooji',\n",
       "       'Cookware & Non Stick', 'Fresh Fruits', 'Car & Shoe Care',\n",
       "       'Edible Oils & Ghee', 'Dals & Pulses', 'Gardening',\n",
       "       'Energy & Soft Drinks', 'Chocolates & Candies', 'Gourmet Breads',\n",
       "       'Exotic Fruits & Veggies', 'Indian Mithai', 'Mothers & Maternity',\n",
       "       'Water', 'Pickles & Chutney', 'Coffee', 'Salt, Sugar & Jaggery',\n",
       "       'Non Dairy', 'Flower Bouquets, Bunches', 'Herbs & Seasonings',\n",
       "       'Cuts & Sprouts', 'Flask & Casserole', 'Baby Accessories',\n",
       "       'Breads & Buns', 'Bakery Snacks', 'Mutton & Lamb',\n",
       "       'Ice Creams & Desserts', 'Pork & Other Meats', 'Marinades'],\n",
       "      dtype=object)"
      ]
     },
     "execution_count": 21,
     "metadata": {},
     "output_type": "execute_result"
    }
   ],
   "source": [
    "data_train['sub_category'].unique() # to get unique values of sub_category\n"
   ]
  },
  {
   "cell_type": "code",
   "execution_count": 22,
   "id": "4d435b39-4aad-4826-ab89-5220b36a59a6",
   "metadata": {},
   "outputs": [
    {
     "data": {
      "text/plain": [
       "[('Skin Care', 1814),\n",
       " ('Health & Medicine', 927),\n",
       " ('Hair Care', 830),\n",
       " ('Fragrances & Deos', 822),\n",
       " ('Storage & Accessories', 821),\n",
       " ('Bath & Hand Wash', 779),\n",
       " ('Masalas & Spices', 700),\n",
       " ('Crockery & Cutlery', 694),\n",
       " ('Snacks, Dry Fruits, Nuts', 677),\n",
       " (\"Men's Grooming\", 648)]"
      ]
     },
     "execution_count": 22,
     "metadata": {},
     "output_type": "execute_result"
    }
   ],
   "source": [
    "#  top 10 sub_categories\n",
    "subcategory_count=Counter(list(data_train['sub_category']))\n",
    "subcategory_count.most_common(10)"
   ]
  },
  {
   "cell_type": "code",
   "execution_count": 23,
   "id": "bbec98b8-3af5-40da-bf93-e9a2d165c3a2",
   "metadata": {},
   "outputs": [
    {
     "data": {
      "text/html": [
       "<div>\n",
       "<style scoped>\n",
       "    .dataframe tbody tr th:only-of-type {\n",
       "        vertical-align: middle;\n",
       "    }\n",
       "\n",
       "    .dataframe tbody tr th {\n",
       "        vertical-align: top;\n",
       "    }\n",
       "\n",
       "    .dataframe thead th {\n",
       "        text-align: right;\n",
       "    }\n",
       "</style>\n",
       "<table border=\"1\" class=\"dataframe\">\n",
       "  <thead>\n",
       "    <tr style=\"text-align: right;\">\n",
       "      <th></th>\n",
       "      <th>sub_category</th>\n",
       "      <th>counts</th>\n",
       "    </tr>\n",
       "  </thead>\n",
       "  <tbody>\n",
       "    <tr>\n",
       "      <th>0</th>\n",
       "      <td>Skin Care</td>\n",
       "      <td>1814</td>\n",
       "    </tr>\n",
       "    <tr>\n",
       "      <th>1</th>\n",
       "      <td>Health &amp; Medicine</td>\n",
       "      <td>927</td>\n",
       "    </tr>\n",
       "    <tr>\n",
       "      <th>2</th>\n",
       "      <td>Hair Care</td>\n",
       "      <td>830</td>\n",
       "    </tr>\n",
       "    <tr>\n",
       "      <th>3</th>\n",
       "      <td>Fragrances &amp; Deos</td>\n",
       "      <td>822</td>\n",
       "    </tr>\n",
       "    <tr>\n",
       "      <th>4</th>\n",
       "      <td>Storage &amp; Accessories</td>\n",
       "      <td>821</td>\n",
       "    </tr>\n",
       "    <tr>\n",
       "      <th>5</th>\n",
       "      <td>Bath &amp; Hand Wash</td>\n",
       "      <td>779</td>\n",
       "    </tr>\n",
       "    <tr>\n",
       "      <th>6</th>\n",
       "      <td>Masalas &amp; Spices</td>\n",
       "      <td>700</td>\n",
       "    </tr>\n",
       "    <tr>\n",
       "      <th>7</th>\n",
       "      <td>Crockery &amp; Cutlery</td>\n",
       "      <td>694</td>\n",
       "    </tr>\n",
       "    <tr>\n",
       "      <th>8</th>\n",
       "      <td>Snacks, Dry Fruits, Nuts</td>\n",
       "      <td>677</td>\n",
       "    </tr>\n",
       "    <tr>\n",
       "      <th>9</th>\n",
       "      <td>Men's Grooming</td>\n",
       "      <td>648</td>\n",
       "    </tr>\n",
       "  </tbody>\n",
       "</table>\n",
       "</div>"
      ],
      "text/plain": [
       "               sub_category  counts\n",
       "0                 Skin Care    1814\n",
       "1         Health & Medicine     927\n",
       "2                 Hair Care     830\n",
       "3         Fragrances & Deos     822\n",
       "4     Storage & Accessories     821\n",
       "5          Bath & Hand Wash     779\n",
       "6          Masalas & Spices     700\n",
       "7        Crockery & Cutlery     694\n",
       "8  Snacks, Dry Fruits, Nuts     677\n",
       "9            Men's Grooming     648"
      ]
     },
     "execution_count": 23,
     "metadata": {},
     "output_type": "execute_result"
    }
   ],
   "source": [
    "d1=data_train['sub_category'].value_counts().reset_index()[0:10] # selecting top 10 sub categories\n",
    "d1.columns=['sub_category','counts'] # renaming colimns\n",
    "d1"
   ]
  },
  {
   "cell_type": "code",
   "execution_count": 24,
   "id": "263aed97-6321-4531-b66c-84e41885d36b",
   "metadata": {},
   "outputs": [
    {
     "data": {
      "image/png": "[encoded data removed]",
      "text/plain": [
       "<Figure size 800x400 with 1 Axes>"
      ]
     },
     "metadata": {},
     "output_type": "display_data"
    }
   ],
   "source": [
    "plt.figure(figsize=(8,4))\n",
    "ax=sns.barplot(x='sub_category',y='counts',data=d1,palette=\"Accent_d\")\n",
    "ax.set_xticklabels(ax.get_xticklabels(), rotation=40,ha=\"right\")\n",
    "\n",
    "# annotating values\n",
    "for bar in ax.patches: # annotating bar graph \n",
    "    ax.annotate(format(bar.get_height(), '.0f'),\n",
    "                   (bar.get_x() + bar.get_width() / 2,\n",
    "                    bar.get_height()), ha='center', va='center',\n",
    "                   size=8, xytext=(0, 3.5),\n",
    "                   textcoords='offset points')\n",
    "ax.set_title('Univariate Analysis of Sub_Category') # title the graph\n",
    "\n",
    "plt.show()"
   ]
  },
  {
   "cell_type": "code",
   "execution_count": 25,
   "id": "1c24ada2-9cfb-43ad-97eb-ff679859038e",
   "metadata": {},
   "outputs": [
    {
     "data": {
      "text/plain": [
       "count      21951\n",
       "unique      2195\n",
       "top       Fresho\n",
       "freq         506\n",
       "Name: brand, dtype: object"
      ]
     },
     "execution_count": 25,
     "metadata": {},
     "output_type": "execute_result"
    }
   ],
   "source": [
    "# For Feature 'Brand'\n",
    "data_train['brand'].describe()"
   ]
  },
  {
   "cell_type": "code",
   "execution_count": 26,
   "id": "8c43f282-33c2-49d4-b2e5-0695048543e6",
   "metadata": {},
   "outputs": [
    {
     "data": {
      "text/plain": [
       "[('Fresho', 506),\n",
       " ('bb Royal', 429),\n",
       " ('BB Home', 350),\n",
       " ('DP', 194),\n",
       " ('Fresho Signature', 133),\n",
       " ('bb Combo', 130),\n",
       " ('Amul', 120),\n",
       " ('GoodDiet', 118),\n",
       " ('Dabur', 112),\n",
       " ('INATUR ', 111)]"
      ]
     },
     "execution_count": 26,
     "metadata": {},
     "output_type": "execute_result"
    }
   ],
   "source": [
    "#  top 10 brand\n",
    "brand_count=Counter(list(data_train['brand']))\n",
    "brand_count.most_common(10)"
   ]
  },
  {
   "cell_type": "code",
   "execution_count": 27,
   "id": "68047e55-51d7-432a-a579-9a0879a32236",
   "metadata": {},
   "outputs": [
    {
     "data": {
      "text/plain": [
       "brand\n",
       "Fresho              2.305134\n",
       "bb Royal            1.954353\n",
       "BB Home             1.594460\n",
       "DP                  0.883787\n",
       "Fresho Signature    0.605895\n",
       "bb Combo            0.592228\n",
       "Amul                0.546672\n",
       "GoodDiet            0.537561\n",
       "Dabur               0.510227\n",
       "INATUR              0.505672\n",
       "Name: proportion, dtype: float64"
      ]
     },
     "execution_count": 27,
     "metadata": {},
     "output_type": "execute_result"
    }
   ],
   "source": [
    "# percentage of top 10 brands\n",
    "(data_train['brand'].value_counts(normalize=True)*100)[:10]"
   ]
  },
  {
   "cell_type": "code",
   "execution_count": 28,
   "id": "fd133dd1-f6b7-4a39-8328-ce42c77a681f",
   "metadata": {},
   "outputs": [
    {
     "data": {
      "text/plain": [
       "count         21951\n",
       "unique          423\n",
       "top       Face Care\n",
       "freq           1181\n",
       "Name: type, dtype: object"
      ]
     },
     "execution_count": 28,
     "metadata": {},
     "output_type": "execute_result"
    }
   ],
   "source": [
    "# For Feature 'type'\n",
    "data_train['type'].describe()"
   ]
  },
  {
   "cell_type": "code",
   "execution_count": 29,
   "id": "1b19f760-3297-44fa-81bd-57b09904efae",
   "metadata": {},
   "outputs": [
    {
     "data": {
      "text/plain": [
       "[('Face Care', 1181),\n",
       " ('Ayurveda', 444),\n",
       " (\"Men's Deodorants\", 407),\n",
       " ('Shampoo & Conditioner', 364),\n",
       " ('Containers Sets', 343),\n",
       " ('Glassware', 327),\n",
       " ('Bathing Bars & Soaps', 308),\n",
       " ('Blended Masalas', 306),\n",
       " ('Gourmet Tea & Tea Bags', 276),\n",
       " ('Body Care', 274)]"
      ]
     },
     "execution_count": 29,
     "metadata": {},
     "output_type": "execute_result"
    }
   ],
   "source": [
    "#  top 10 type of products\n",
    "type_count=Counter(list(data_train['type']))\n",
    "type_count.most_common(10)"
   ]
  },
  {
   "cell_type": "code",
   "execution_count": 30,
   "id": "390116e3-fc1e-4d43-8e8a-9774a6e48c33",
   "metadata": {},
   "outputs": [
    {
     "data": {
      "text/plain": [
       "type\n",
       "Face Care                 5.380165\n",
       "Ayurveda                  2.022687\n",
       "Men's Deodorants          1.854130\n",
       "Shampoo & Conditioner     1.658239\n",
       "Containers Sets           1.562571\n",
       "Glassware                 1.489682\n",
       "Bathing Bars & Soaps      1.403125\n",
       "Blended Masalas           1.394014\n",
       "Gourmet Tea & Tea Bags    1.257346\n",
       "Body Care                 1.248235\n",
       "Name: proportion, dtype: float64"
      ]
     },
     "execution_count": 30,
     "metadata": {},
     "output_type": "execute_result"
    }
   ],
   "source": [
    "# percentage of top 10 types\n",
    "(data_train['type'].value_counts(normalize=True)*100)[:10]"
   ]
  },
  {
   "cell_type": "markdown",
   "id": "c366a587-2163-4c56-ab57-5620caeb89f9",
   "metadata": {},
   "source": [
    "### sales_price"
   ]
  },
  {
   "cell_type": "code",
   "execution_count": 31,
   "id": "7b5025fb-de93-4ecb-ba75-d964d8d78845",
   "metadata": {},
   "outputs": [
    {
     "data": {
      "text/plain": [
       "[(99.0, 325),\n",
       " (50.0, 260),\n",
       " (199.0, 248),\n",
       " (299.0, 240),\n",
       " (150.0, 237),\n",
       " (60.0, 232),\n",
       " (149.0, 203),\n",
       " (120.0, 197),\n",
       " (225.0, 197),\n",
       " (75.0, 194)]"
      ]
     },
     "execution_count": 31,
     "metadata": {},
     "output_type": "execute_result"
    }
   ],
   "source": [
    "#  top sale_price\n",
    "saleprice_count=Counter(list(data_train['sale_price']))\n",
    "saleprice_count.most_common(10)"
   ]
  },
  {
   "cell_type": "code",
   "execution_count": 33,
   "id": "437033e5-c804-4cb4-aac0-c793b016322c",
   "metadata": {},
   "outputs": [
    {
     "data": {
      "text/plain": [
       "sale_price\n",
       "12500.00     1\n",
       "10090.00     1\n",
       "8184.44      1\n",
       "7999.00      1\n",
       "7299.00      1\n",
       "            ..\n",
       "7.50         2\n",
       "6.00         7\n",
       "5.00        16\n",
       "3.00         1\n",
       "2.45         1\n",
       "Name: count, Length: 2891, dtype: int64"
      ]
     },
     "execution_count": 33,
     "metadata": {},
     "output_type": "execute_result"
    }
   ],
   "source": [
    "data_train['sale_price'].value_counts().sort_index(ascending=False)\n"
   ]
  },
  {
   "cell_type": "code",
   "execution_count": 34,
   "id": "b922106b-6061-4e44-af0f-f33605e6cdef",
   "metadata": {},
   "outputs": [
    {
     "data": {
      "text/plain": [
       "<Axes: xlabel='sale_price', ylabel='Proportion'>"
      ]
     },
     "execution_count": 34,
     "metadata": {},
     "output_type": "execute_result"
    },
    {
     "data": {
      "image/png": "[encoded data removed]",
      "text/plain": [
       "<Figure size 1000x500 with 1 Axes>"
      ]
     },
     "metadata": {},
     "output_type": "display_data"
    }
   ],
   "source": [
    "#CDF of sale_price\n",
    "sns.set(rc={'figure.figsize':(10,5)})\n",
    "sns.set_style('whitegrid')\n",
    "sns.ecdfplot(data_train['sale_price'])"
   ]
  },
  {
   "cell_type": "code",
   "execution_count": 35,
   "id": "a6aa48ce-e6ef-4350-a73f-d454ef090438",
   "metadata": {},
   "outputs": [
    {
     "data": {
      "text/plain": [
       "<Axes: ylabel='sale_price'>"
      ]
     },
     "execution_count": 35,
     "metadata": {},
     "output_type": "execute_result"
    },
    {
     "data": {
      "image/png": "[encoded data removed]",
      "text/plain": [
       "<Figure size 1000x500 with 1 Axes>"
      ]
     },
     "metadata": {},
     "output_type": "display_data"
    }
   ],
   "source": [
    "# Univariate analysis of sale_price\n",
    "#Plotting of sale_price variable\n",
    "sns.set(rc={'figure.figsize':(10,5)})\n",
    "sns.set_style('white')\n",
    "sns.boxplot(y=data_train['sale_price'])"
   ]
  },
  {
   "cell_type": "code",
   "execution_count": 36,
   "id": "28263234-ec46-45c5-9d47-eb117b5978ad",
   "metadata": {},
   "outputs": [
    {
     "data": {
      "image/png": "[encoded data removed]",
      "text/plain": [
       "<Figure size 1000x500 with 1 Axes>"
      ]
     },
     "metadata": {},
     "output_type": "display_data"
    }
   ],
   "source": [
    "ypoints=np.array(data_train['sale_price'].sort_values())\n",
    "plt.plot(ypoints,'r-')\n",
    "plt.ylabel('sale_price')\n",
    "plt.grid()\n",
    "plt.show()"
   ]
  },
  {
   "cell_type": "code",
   "execution_count": 37,
   "id": "58989916-0bab-4d9d-b508-6fd69b698dbb",
   "metadata": {},
   "outputs": [
    {
     "data": {
      "text/plain": [
       "(303, 8)"
      ]
     },
     "execution_count": 37,
     "metadata": {},
     "output_type": "execute_result"
    }
   ],
   "source": [
    "# data with sale price greater than \n",
    "data_saleprice=data_train[data_train['sale_price']>2000]\n",
    "data_saleprice.shape"
   ]
  },
  {
   "cell_type": "code",
   "execution_count": 38,
   "id": "5b1aa5ba-a3ac-4244-85ab-1e2a8b1a2c0f",
   "metadata": {},
   "outputs": [
    {
     "name": "stdout",
     "output_type": "stream",
     "text": [
      "No. of data points after removing sale_price outliers: 21648\n"
     ]
    }
   ],
   "source": [
    "data_train=data_train[data_train['sale_price']<=2000]\n",
    "print(\"No. of data points after removing sale_price outliers:\",data_train.shape[0])"
   ]
  },
  {
   "cell_type": "markdown",
   "id": "10472300-0bc3-4f50-b0c4-6cc803d42d13",
   "metadata": {},
   "source": [
    "### Description feature"
   ]
  },
  {
   "cell_type": "code",
   "execution_count": 39,
   "id": "ec4ef311-3960-4be7-ac6f-a215e92a27c8",
   "metadata": {},
   "outputs": [
    {
     "data": {
      "text/plain": [
       "description\n",
       "A brand inspired by the Greek goddess of victory, it personifies strength, speed and energy and it launched its first perfume in 1929. Since then, a wide assortment of fragrance collections has hit the marketplace with refreshing, and eye-catching proposals that capture the essence and lifestyle of today´s man and woman.                                                                                                                                                                                                                                                                                                                                                                                                                                                                                                                                                                                                                                                                                                                                                                                          37\n",
       "Now free your environment, and yourself from the unhealthy plastic bottles and get a healthier one-time product for all your needs. These high-grade stainless steel bottles are here to enhance your dining and travelling experience, saving you from the negative effects of plastic. The single-walled steel bottles are perfect add-ons to your kitchen collection if you are looking for light-weighed, durable, classy looking product. The bottle comes with sipper & wide mouth steel cap, catering to double usage. Be it going to the gym, or sending it with the kids to school, the colourful sipper can always make it a very convenient, handy and more importantly a style-statement product. You can take it to the office or just keep on the dinner table. Open the wide mouth lid and use at ease. The bottles come with the major USP of inter-changeable lid facility. Now you can make the same steel cap bottle as a sipper bottle by just interchanging the lids. Hence, get 2 of two-in-one featured bottles of same model and capacities and get the best of both, with a variety of colours!    32\n",
       "Energetic strong and stirred with action, X-MEN Charge Body Deodoratnt has the fragrance of pure desire in the most dashing way. Stay irrestible, 24x7.                                                                                                                                                                                                                                                                                                                                                                                                                                                                                                                                                                                                                                                                                                                                                                                                                                                                                                                                                                     30\n",
       "Baldessarini Ambre Cologne is built around a whisky accord and complemented by top notes of mandarin and red apple, leading to a heart of violet, offset by a leather accord. With a base that blends notes of amber, oakwood, vanilla and labdanum.  For Beauty tips, tricks & more visit https://bigbasket.blog/                                                                                                                                                                                                                                                                                                                                                                                                                                                                                                                                                                                                                                                                                                                                                                                                          27\n",
       "Fresho Organic products are organically grown and handpicked by expert.  Product image shown is for representation purpose only, the actually product may vary based on season, produce & availability.                                                                                                                                                                                                                                                                                                                                                                                                                                                                                                                                                                                                                                                                                                                                                                                                                                                                                                                     26\n",
       "                                                                                                                                                                                                                                                                                                                                                                                                                                                                                                                                                                                                                                                                                                                                                                                                                                                                                                                                                                                                                                                                                                                            ..\n",
       "Fully cooked and ready to eat, conveneint to prepare and have a great classic taste.                                                                                                                                                                                                                                                                                                                                                                                                                                                                                                                                                                                                                                                                                                                                                                                                                                                                                                                                                                                                                                         1\n",
       "A popular cheese of Italian origin, traditionally produced from fresh milk of cow/buffalo, its unique taste and texture.especially suitable for making the much loved pizza and a host of other recipes, including baked dishes, pastas, salads, meats, seafood, and vegetables.                                                                                                                                                                                                                                                                                                                                                                                                                                                                                                                                                                                                                                                                                                                                                                                                                                             1\n",
       "This Ayurvedic Pimple Treatment pack is a synergistic blend of biologically active Indian herbs which regulates the excess flow of sebum. This pack also controls the growth of the bacterial population and the associated inflammations (redness). It effectively flushes out every trace of bacteria, grime, and excess oil from clogged pores thus preventing the formation of black or whiteheads and the consequent pore enlargement. It works hard on pimples deep down to soothe and heal the troubled skin from within.                                                                                                                                                                                                                                                                                                                                                                                                                                                                                                                                                                                             1\n",
       "Swarnanjali Puffed Rice is a cereal usually made by heating rice kernels under high pressure in the presence of steam, to form puffed grains. It is light and has a crispy texture. It is a ready-to-eat traditional snack which is hygienically packed for you.                                                                                                                                                                                                                                                                                                                                                                                                                                                                                                                                                                                                                                                                                                                                                                                                                                                             1\n",
       "Refill pack. Adjustable with all major brands. Light weight microfiber yarn. Product can be only returned if it is not used and it is in packed condition.                                                                                                                                                                                                                                                                                                                                                                                                                                                                                                                                                                                                                                                                                                                                                                                                                                                                                                                                                                   1\n",
       "Name: count, Length: 17881, dtype: int64"
      ]
     },
     "execution_count": 39,
     "metadata": {},
     "output_type": "execute_result"
    }
   ],
   "source": [
    "data_train['description'].value_counts()\n"
   ]
  },
  {
   "cell_type": "code",
   "execution_count": 40,
   "id": "9041755d-6b54-449e-b793-17e6fbe005d9",
   "metadata": {},
   "outputs": [
    {
     "data": {
      "text/plain": [
       "0"
      ]
     },
     "execution_count": 40,
     "metadata": {},
     "output_type": "execute_result"
    }
   ],
   "source": [
    "data_train['description'].isna().sum() # to check for any missing values"
   ]
  },
  {
   "cell_type": "code",
   "execution_count": 41,
   "id": "5c278f15-11e6-4f43-9cbf-63913d661e19",
   "metadata": {},
   "outputs": [
    {
     "data": {
      "text/plain": [
       "0"
      ]
     },
     "execution_count": 41,
     "metadata": {},
     "output_type": "execute_result"
    }
   ],
   "source": [
    "data_train[data_train['description']==u' '].any().sum() # to check for just space in description"
   ]
  },
  {
   "cell_type": "markdown",
   "id": "c427f8fa-d65e-4bfe-825e-9733ca254bdc",
   "metadata": {},
   "source": [
    "## Data Preprocessing\n"
   ]
  },
  {
   "cell_type": "code",
   "execution_count": 42,
   "id": "9a0b362f-2b6f-443e-8399-7035cd988369",
   "metadata": {},
   "outputs": [
    {
     "name": "stdout",
     "output_type": "stream",
     "text": [
      "list of stop words: {\"hadn't\", 'yourselves', 'that', 'both', 'over', 'each', 'ourselves', 'once', 'very', 'd', 'from', \"you'd\", 'nor', 'same', 'he', 'down', \"aren't\", 'our', 'through', 'too', 'other', 'aren', 'until', 'should', 'off', 'own', 'out', \"couldn't\", 'while', 'into', 'whom', 'yours', 'only', 'can', \"wouldn't\", 'are', 'who', 'some', 'those', 'here', 'm', 'wasn', 'herself', 'under', 'now', \"mustn't\", 'himself', 'to', 'theirs', 'her', 'haven', 'll', 'doing', 'these', 'up', 'so', 'when', 'ours', 'we', 'its', 'yourself', 'weren', 'hers', \"wasn't\", 'shan', 'just', \"mightn't\", 'my', 'won', 'what', 'mustn', \"you'll\", 'it', 'ma', \"needn't\", 'do', 'at', 'couldn', \"it's\", 'was', 're', 'again', 'or', 'me', 'of', \"you're\", 'after', 'about', 'don', 'doesn', \"you've\", 'as', \"won't\", \"isn't\", 'which', 'by', 'for', 'but', 'between', 'am', 'the', 'needn', 'does', 'did', 'isn', 'them', \"shan't\", 'with', \"haven't\", 'itself', 'his', 'because', 'have', 'hadn', 'be', 'they', 'themselves', 'against', \"should've\", 'your', 'in', 'than', 'were', 'this', \"she's\", 'where', 'has', 'didn', 'above', 'not', \"shouldn't\", \"that'll\", 'hasn', 'there', 'before', 'more', 'she', 's', 'wouldn', 'further', 'him', 'myself', 'ain', 'a', 'their', 'below', 'mightn', 't', 'will', 'any', \"didn't\", 'all', 'such', 'on', 'been', 'you', 'few', 'during', 'then', 'o', \"doesn't\", 'shouldn', 'being', 'an', 'most', 'how', 'is', \"don't\", 'y', 'having', \"hasn't\", 'why', 've', 'i', 'and', 'had', \"weren't\", 'if', 'no'}\n"
     ]
    },
    {
     "name": "stderr",
     "output_type": "stream",
     "text": [
      "[nltk_data] Downloading package stopwords to\n",
      "[nltk_data]     C:\\Users\\harshita.chigati\\AppData\\Roaming\\nltk_data...\n",
      "[nltk_data]   Package stopwords is already up-to-date!\n"
     ]
    }
   ],
   "source": [
    "# we use the list of stop words that are downloaded from nltk lib.\n",
    "import nltk # to download only once\n",
    "nltk.download('stopwords')\n",
    "stop_words = set(stopwords.words('english'))\n",
    "print ('list of stop words:', stop_words)"
   ]
  },
  {
   "cell_type": "markdown",
   "id": "e1a99389-30cd-48a5-8ef5-765836fb0061",
   "metadata": {},
   "source": [
    "### Categorical features"
   ]
  },
  {
   "cell_type": "code",
   "execution_count": 43,
   "id": "69db9799-f48f-4cc3-8e86-3cc524010a2c",
   "metadata": {},
   "outputs": [],
   "source": [
    "# preprocressing category feature\n",
    "def preprocess_categorical(data,column_name):\n",
    "    \"\"\" fuction to preprocess categorical data column\"\"\"\n",
    "    \n",
    "    data[column_name]=data[column_name].str.replace('&','_') # replacing & with _\n",
    "    data[column_name]=data[column_name].str.replace(',','_') # replacing , with _\n",
    "    data[column_name]=data[column_name].str.replace(\"'\",'') #replacing ' with ''(no space)\n",
    "    data[column_name]=data[column_name].str.replace(\" \",'') # removing white spaces\n",
    "    data[column_name]=data[column_name].str.lower() # to lower case\n",
    "    data[column_name]=data[column_name].str.strip() # removing trailing and leading white space\n",
    "    \n",
    "    return data[column_name]"
   ]
  },
  {
   "cell_type": "code",
   "execution_count": 44,
   "id": "4fd56acb-fcb2-4bf9-bd6a-64ed4fb88d77",
   "metadata": {},
   "outputs": [
    {
     "data": {
      "text/plain": [
       "array(['foodgrains_oil_masala', 'snacks_brandedfoods',\n",
       "       'gourmet_worldfood', 'beauty_hygiene', 'cleaning_household',\n",
       "       'kitchen_garden_pets', 'babycare', 'beverages',\n",
       "       'bakery_cakes_dairy', 'eggs_meat_fish', 'fruits_vegetables'],\n",
       "      dtype=object)"
      ]
     },
     "execution_count": 44,
     "metadata": {},
     "output_type": "execute_result"
    }
   ],
   "source": [
    "data_train['category']=preprocess_categorical(data_train,'category')\n",
    "data_train['category'].unique() # to check"
   ]
  },
  {
   "cell_type": "code",
   "execution_count": 45,
   "id": "b2e503d9-4f6b-479b-ad27-36124f0f3440",
   "metadata": {},
   "outputs": [
    {
     "data": {
      "text/plain": [
       "array(['organicstaples', 'frozenveggies_snacks', 'rice_riceproducts',\n",
       "       'cooking_bakingneeds', 'drinks_beverages', 'fragrances_deos',\n",
       "       'allpurposecleaners', 'snacks_dryfruits_nuts',\n",
       "       'storage_accessories', 'fresheners_repellents', 'diapers_wipes',\n",
       "       'masalas_spices', 'tea', 'snacks_namkeen', 'party_festiveneeds',\n",
       "       'cereals_breakfast', 'tinned_processedfood', 'dryfruits',\n",
       "       'health_medicine', 'poojaneeds', 'dairy', 'appliances_electricals',\n",
       "       'haircare', 'readytocook_eat', 'petfood_accessories', 'skincare',\n",
       "       'crockery_cutlery', 'mensgrooming', 'fish_seafood',\n",
       "       'pasta_soup_noodles', 'organicfruits_vegetables',\n",
       "       'spreads_sauces_ketchup', 'steelutensils', 'bakeware', 'oralcare',\n",
       "       'detergents_dishwash', 'bath_handwash', 'cakes_pastries',\n",
       "       'sauces_spreads_dips', 'freshvegetables',\n",
       "       'noodle_pasta_vermicelli', 'bins_bathroomware',\n",
       "       'mops_brushes_scrubs', 'chocolates_biscuits',\n",
       "       'healthdrink_supplement', 'breakfastcereals', 'cookies_rusk_khari',\n",
       "       'fruitjuices_drinks', 'femininehygiene', 'babyfood_formula',\n",
       "       'disposables_garbagebag', 'feeding_nursing', 'stationery',\n",
       "       'kitchenaccessories', 'makeup', 'babybath_hygiene',\n",
       "       'sausages_bacon_salami', 'eggs', 'dairy_cheese',\n",
       "       'biscuits_cookies', 'atta_flours_sooji', 'freshfruits',\n",
       "       'car_shoecare', 'oils_vinegar', 'cookware_nonstick',\n",
       "       'edibleoils_ghee', 'dals_pulses', 'gardening', 'energy_softdrinks',\n",
       "       'chocolates_candies', 'gourmetbreads', 'exoticfruits_veggies',\n",
       "       'indianmithai', 'mothers_maternity', 'water', 'pickles_chutney',\n",
       "       'coffee', 'salt_sugar_jaggery', 'nondairy',\n",
       "       'flowerbouquets_bunches', 'herbs_seasonings', 'cuts_sprouts',\n",
       "       'flask_casserole', 'babyaccessories', 'breads_buns',\n",
       "       'bakerysnacks', 'mutton_lamb', 'icecreams_desserts',\n",
       "       'pork_othermeats', 'marinades'], dtype=object)"
      ]
     },
     "execution_count": 45,
     "metadata": {},
     "output_type": "execute_result"
    }
   ],
   "source": [
    "data_train['sub_category']=preprocess_categorical(data_train,'sub_category')\n",
    "data_train['sub_category'].unique()"
   ]
  },
  {
   "cell_type": "code",
   "execution_count": 46,
   "id": "8686d68f-6208-4ea6-b258-e32cd6fe3d7f",
   "metadata": {},
   "outputs": [
    {
     "data": {
      "text/plain": [
       "2158"
      ]
     },
     "execution_count": 46,
     "metadata": {},
     "output_type": "execute_result"
    }
   ],
   "source": [
    "data_train['brand']=preprocess_categorical(data_train,'brand')\n",
    "data_train['brand'].nunique()\n"
   ]
  },
  {
   "cell_type": "code",
   "execution_count": 47,
   "id": "1d81374c-cf39-45e3-b4c1-ca359ac6bc6d",
   "metadata": {},
   "outputs": [
    {
     "data": {
      "text/plain": [
       "422"
      ]
     },
     "execution_count": 47,
     "metadata": {},
     "output_type": "execute_result"
    }
   ],
   "source": [
    "data_train['type']=preprocess_categorical(data_train,'type')\n",
    "data_train['type'].nunique()\n"
   ]
  },
  {
   "cell_type": "code",
   "execution_count": 48,
   "id": "4dc50ca4-74da-4dd5-9619-59b0398cd9eb",
   "metadata": {},
   "outputs": [
    {
     "name": "stderr",
     "output_type": "stream",
     "text": [
      "100%|█████████████████████████████████████████████████████████████████████████| 21648/21648 [00:01<00:00, 11380.31it/s]\n"
     ]
    }
   ],
   "source": [
    "from tqdm import tqdm\n",
    "import re\n",
    "def preprocess_description(text):\n",
    "    preprocessed_description=[]\n",
    "    for description in tqdm(text):\n",
    "        \n",
    "        #Delete all the data which are present in the brackets\n",
    "        description = re.sub(r'\\([^()]*\\)',' ',description)\n",
    "        \n",
    "        #removing urls\n",
    "        description = re.sub(r'http\\S+',' ',description)\n",
    "        description = re.sub('[^A-Za-z]+', ' ', description) # remove all characters except a-z and A-Z and replace with white space\n",
    "        # https://gist.github.com/sebleier/554280\n",
    "        description = ' '.join(word for word in description.split() if word.lower() not in stop_words) # removing stop words\n",
    "        description = ' '.join(word for word in description.split() if len(word)>2) # removing single letter and two letter words\n",
    "        description = description.lower().strip()\n",
    "        preprocessed_description.append(description)\n",
    "        \n",
    "    return preprocessed_description\n",
    "preprocessed_description=preprocess_description(data_train['description'].values)"
   ]
  },
  {
   "cell_type": "code",
   "execution_count": 49,
   "id": "09f4f0cb-536f-4636-9d96-f007fada26e4",
   "metadata": {},
   "outputs": [
    {
     "data": {
      "text/html": [
       "<div>\n",
       "<style scoped>\n",
       "    .dataframe tbody tr th:only-of-type {\n",
       "        vertical-align: middle;\n",
       "    }\n",
       "\n",
       "    .dataframe tbody tr th {\n",
       "        vertical-align: top;\n",
       "    }\n",
       "\n",
       "    .dataframe thead th {\n",
       "        text-align: right;\n",
       "    }\n",
       "</style>\n",
       "<table border=\"1\" class=\"dataframe\">\n",
       "  <thead>\n",
       "    <tr style=\"text-align: right;\">\n",
       "      <th></th>\n",
       "      <th>product</th>\n",
       "      <th>category</th>\n",
       "      <th>sub_category</th>\n",
       "      <th>brand</th>\n",
       "      <th>type</th>\n",
       "      <th>description</th>\n",
       "      <th>sale_price</th>\n",
       "      <th>market_price</th>\n",
       "    </tr>\n",
       "  </thead>\n",
       "  <tbody>\n",
       "    <tr>\n",
       "      <th>0</th>\n",
       "      <td>Flour - Corn</td>\n",
       "      <td>foodgrains_oil_masala</td>\n",
       "      <td>organicstaples</td>\n",
       "      <td>organictattva</td>\n",
       "      <td>organicflours</td>\n",
       "      <td>per calories fat</td>\n",
       "      <td>57.00</td>\n",
       "      <td>60.0</td>\n",
       "    </tr>\n",
       "    <tr>\n",
       "      <th>1</th>\n",
       "      <td>Veg. Burger Patty</td>\n",
       "      <td>snacks_brandedfoods</td>\n",
       "      <td>frozenveggies_snacks</td>\n",
       "      <td>yummiez</td>\n",
       "      <td>frozenvegsnacks</td>\n",
       "      <td>real good veg burger patty choice eating beefy...</td>\n",
       "      <td>125.00</td>\n",
       "      <td>125.0</td>\n",
       "    </tr>\n",
       "    <tr>\n",
       "      <th>2</th>\n",
       "      <td>Dosa Rice/Akki</td>\n",
       "      <td>foodgrains_oil_masala</td>\n",
       "      <td>rice_riceproducts</td>\n",
       "      <td>supersaver</td>\n",
       "      <td>rawrice</td>\n",
       "      <td>rice dosa easy make premium dosa mix used make...</td>\n",
       "      <td>199.00</td>\n",
       "      <td>225.0</td>\n",
       "    </tr>\n",
       "    <tr>\n",
       "      <th>3</th>\n",
       "      <td>Skimmed Milk Powder</td>\n",
       "      <td>gourmet_worldfood</td>\n",
       "      <td>cooking_bakingneeds</td>\n",
       "      <td>puramate</td>\n",
       "      <td>baking_cakedecorations</td>\n",
       "      <td>puramate skimmed milk powder makes wholesome m...</td>\n",
       "      <td>58.50</td>\n",
       "      <td>65.0</td>\n",
       "    </tr>\n",
       "    <tr>\n",
       "      <th>4</th>\n",
       "      <td>Kiwi Drink</td>\n",
       "      <td>gourmet_worldfood</td>\n",
       "      <td>drinks_beverages</td>\n",
       "      <td>alafresh</td>\n",
       "      <td>gourmetjuices_drinks</td>\n",
       "      <td>ala fresh kiwi fruit drink refreshing fruit dr...</td>\n",
       "      <td>10.00</td>\n",
       "      <td>10.0</td>\n",
       "    </tr>\n",
       "    <tr>\n",
       "      <th>...</th>\n",
       "      <td>...</td>\n",
       "      <td>...</td>\n",
       "      <td>...</td>\n",
       "      <td>...</td>\n",
       "      <td>...</td>\n",
       "      <td>...</td>\n",
       "      <td>...</td>\n",
       "      <td>...</td>\n",
       "    </tr>\n",
       "    <tr>\n",
       "      <th>21946</th>\n",
       "      <td>Tea Tree Anti Imperfection Daily Solution</td>\n",
       "      <td>beauty_hygiene</td>\n",
       "      <td>skincare</td>\n",
       "      <td>biotique</td>\n",
       "      <td>facecare</td>\n",
       "      <td>biotique tea tree anti imperfection daily solu...</td>\n",
       "      <td>420.00</td>\n",
       "      <td>560.0</td>\n",
       "    </tr>\n",
       "    <tr>\n",
       "      <th>21947</th>\n",
       "      <td>Intimate Lightening Serum</td>\n",
       "      <td>beauty_hygiene</td>\n",
       "      <td>skincare</td>\n",
       "      <td>namyaa</td>\n",
       "      <td>intimatewash_care</td>\n",
       "      <td>adore flawless skin wish perfect skin tone fee...</td>\n",
       "      <td>750.00</td>\n",
       "      <td>750.0</td>\n",
       "    </tr>\n",
       "    <tr>\n",
       "      <th>21948</th>\n",
       "      <td>Paw'sitively Smooth Paw Butter For Dogs</td>\n",
       "      <td>kitchen_garden_pets</td>\n",
       "      <td>petfood_accessories</td>\n",
       "      <td>captainzack</td>\n",
       "      <td>petcleaning_grooming</td>\n",
       "      <td>paw sitively smooth protects lovely pooch paws...</td>\n",
       "      <td>350.00</td>\n",
       "      <td>350.0</td>\n",
       "    </tr>\n",
       "    <tr>\n",
       "      <th>21949</th>\n",
       "      <td>Colorsilk Hair Colour With Keratin</td>\n",
       "      <td>beauty_hygiene</td>\n",
       "      <td>haircare</td>\n",
       "      <td>revlon</td>\n",
       "      <td>haircolor</td>\n",
       "      <td>colorsilk ammonia permanent hair colour infuse...</td>\n",
       "      <td>413.25</td>\n",
       "      <td>435.0</td>\n",
       "    </tr>\n",
       "    <tr>\n",
       "      <th>21950</th>\n",
       "      <td>Wet Mop - Micro Fiber Floor Square Refill</td>\n",
       "      <td>cleaning_household</td>\n",
       "      <td>mops_brushes_scrubs</td>\n",
       "      <td>liao</td>\n",
       "      <td>mops_wipers</td>\n",
       "      <td>refill pack adjustable major brands light weig...</td>\n",
       "      <td>239.00</td>\n",
       "      <td>395.0</td>\n",
       "    </tr>\n",
       "  </tbody>\n",
       "</table>\n",
       "<p>21648 rows × 8 columns</p>\n",
       "</div>"
      ],
      "text/plain": [
       "                                         product               category  \\\n",
       "0                                   Flour - Corn  foodgrains_oil_masala   \n",
       "1                              Veg. Burger Patty    snacks_brandedfoods   \n",
       "2                                 Dosa Rice/Akki  foodgrains_oil_masala   \n",
       "3                            Skimmed Milk Powder      gourmet_worldfood   \n",
       "4                                     Kiwi Drink      gourmet_worldfood   \n",
       "...                                          ...                    ...   \n",
       "21946  Tea Tree Anti Imperfection Daily Solution         beauty_hygiene   \n",
       "21947                  Intimate Lightening Serum         beauty_hygiene   \n",
       "21948    Paw'sitively Smooth Paw Butter For Dogs    kitchen_garden_pets   \n",
       "21949         Colorsilk Hair Colour With Keratin         beauty_hygiene   \n",
       "21950  Wet Mop - Micro Fiber Floor Square Refill     cleaning_household   \n",
       "\n",
       "               sub_category          brand                    type  \\\n",
       "0            organicstaples  organictattva           organicflours   \n",
       "1      frozenveggies_snacks        yummiez         frozenvegsnacks   \n",
       "2         rice_riceproducts     supersaver                 rawrice   \n",
       "3       cooking_bakingneeds       puramate  baking_cakedecorations   \n",
       "4          drinks_beverages       alafresh    gourmetjuices_drinks   \n",
       "...                     ...            ...                     ...   \n",
       "21946              skincare       biotique                facecare   \n",
       "21947              skincare         namyaa       intimatewash_care   \n",
       "21948   petfood_accessories    captainzack    petcleaning_grooming   \n",
       "21949              haircare         revlon               haircolor   \n",
       "21950   mops_brushes_scrubs           liao             mops_wipers   \n",
       "\n",
       "                                             description  sale_price  \\\n",
       "0                                       per calories fat       57.00   \n",
       "1      real good veg burger patty choice eating beefy...      125.00   \n",
       "2      rice dosa easy make premium dosa mix used make...      199.00   \n",
       "3      puramate skimmed milk powder makes wholesome m...       58.50   \n",
       "4      ala fresh kiwi fruit drink refreshing fruit dr...       10.00   \n",
       "...                                                  ...         ...   \n",
       "21946  biotique tea tree anti imperfection daily solu...      420.00   \n",
       "21947  adore flawless skin wish perfect skin tone fee...      750.00   \n",
       "21948  paw sitively smooth protects lovely pooch paws...      350.00   \n",
       "21949  colorsilk ammonia permanent hair colour infuse...      413.25   \n",
       "21950  refill pack adjustable major brands light weig...      239.00   \n",
       "\n",
       "       market_price  \n",
       "0              60.0  \n",
       "1             125.0  \n",
       "2             225.0  \n",
       "3              65.0  \n",
       "4              10.0  \n",
       "...             ...  \n",
       "21946         560.0  \n",
       "21947         750.0  \n",
       "21948         350.0  \n",
       "21949         435.0  \n",
       "21950         395.0  \n",
       "\n",
       "[21648 rows x 8 columns]"
      ]
     },
     "execution_count": 49,
     "metadata": {},
     "output_type": "execute_result"
    }
   ],
   "source": [
    "data_train['description']=preprocessed_description\n",
    "data_train"
   ]
  },
  {
   "cell_type": "code",
   "execution_count": 50,
   "id": "723624b2-e8b2-4ed3-a8b3-3527a79d7532",
   "metadata": {},
   "outputs": [
    {
     "name": "stdout",
     "output_type": "stream",
     "text": [
      "Printing some random description values\n",
      "--------------------------------------------------\n",
      "[9] lunch box elegant trendy product asian plastics outer body lid made food grade material inner bowl lid made top quality stainless steel keeping food fresh longer period time lunch box also comes handle easy carrying\n",
      "--------------------------------------------------\n",
      "[288] britannia treat wafers strawberry discovering journey taste filled layers crispy wafers strawberry flavour gives taste buds delectable taste crunchiness wafers adds newness believing delivering fresh healthy products britannia india manufactures india favourite brands like tiger nutrichoice bourbon good day milk bikis little hearts\n",
      "--------------------------------------------------\n",
      "[457] aloe veda lavender face cleanser tea tree oil oil free non comedogenic formula containing active ingredients destroy bacteria face pores lead breakouts inflammation mild enough cause irritation inflammation skin oil free non comedogenic clog pores face cleanse skin bacteria dirt excess oils toxins dead skin cells aid face shedding old skin allowing new baby skin grow place enriched aloe vera moisturizing plant glycerin allantoin strip face natural oils contain harsh ingredients alpha hydroxy acids parabens alcohol rinses easily ensuring skin get dry itchy due sticky film deposited contains pure essential oils nutrients suit skin type formula cruelty free vegetarian\n",
      "--------------------------------------------------\n"
     ]
    }
   ],
   "source": [
    "print('Printing some random description values')\n",
    "print('-'*50)\n",
    "print('[9]',data_train['description'][9])\n",
    "print('-'*50)\n",
    "print('[288]',data_train['description'][288])\n",
    "print('-'*50)\n",
    "print('[457]',data_train['description'][457])\n",
    "print('-'*50)"
   ]
  },
  {
   "cell_type": "markdown",
   "id": "edf64fdc-b7e6-4153-b3d0-ce07eb96cae3",
   "metadata": {},
   "source": [
    "### Cluster Analysis"
   ]
  },
  {
   "cell_type": "code",
   "execution_count": 52,
   "id": "3935705d-0ce1-4694-8a3c-273fbffe279c",
   "metadata": {},
   "outputs": [
    {
     "name": "stderr",
     "output_type": "stream",
     "text": [
      "[nltk_data] Downloading package vader_lexicon to\n",
      "[nltk_data]     C:\\Users\\harshita.chigati\\AppData\\Roaming\\nltk_data...\n",
      "[nltk_data]   Package vader_lexicon is already up-to-date!\n"
     ]
    },
    {
     "data": {
      "text/plain": [
       "True"
      ]
     },
     "execution_count": 52,
     "metadata": {},
     "output_type": "execute_result"
    }
   ],
   "source": [
    "# computing sentiment score for description feature\n",
    "import nltk\n",
    "nltk.download('vader_lexicon')"
   ]
  },
  {
   "cell_type": "code",
   "execution_count": 53,
   "id": "e21626b8-214c-499d-a5a1-c4b44d3c0dd7",
   "metadata": {},
   "outputs": [
    {
     "name": "stderr",
     "output_type": "stream",
     "text": [
      "100%|███████████████████████████████████████████████████████████████████████████| 21648/21648 [00:53<00:00, 402.08it/s]\n"
     ]
    }
   ],
   "source": [
    "from nltk.sentiment.vader import SentimentIntensityAnalyzer\n",
    "from tqdm import tqdm\n",
    "sia=SentimentIntensityAnalyzer()\n",
    "\n",
    "# saving sentiment scores in list \n",
    "negative=[]\n",
    "neu=[]\n",
    "pos=[]\n",
    "compound=[]\n",
    "\n",
    "for description in tqdm(data_train['description']):\n",
    "    i=sia.polarity_scores(description)['neg']\n",
    "    j=sia.polarity_scores(description)['neu']\n",
    "    k=sia.polarity_scores(description)['pos']\n",
    "    l=sia.polarity_scores(description)['compound']\n",
    "    negative.append(i)\n",
    "    neu.append(j)\n",
    "    pos.append(k)\n",
    "    compound.append(l)"
   ]
  },
  {
   "cell_type": "code",
   "execution_count": 54,
   "id": "fce6b3d9-023f-4b25-bb2c-8f6d85603526",
   "metadata": {},
   "outputs": [],
   "source": [
    "# adding sentiment intensity analyser scores to dataframe as columns\n",
    "data_train['negative']=negative\n",
    "data_train['neutral']=neu\n",
    "data_train['positive']=pos\n",
    "data_train['compound']=compound"
   ]
  },
  {
   "cell_type": "code",
   "execution_count": 55,
   "id": "8f537019-f25a-4bff-b427-df6698a16233",
   "metadata": {},
   "outputs": [
    {
     "data": {
      "text/plain": [
       "count    21648.000000\n",
       "mean       279.441729\n",
       "std        295.756692\n",
       "min          2.450000\n",
       "25%         94.500000\n",
       "50%        189.000000\n",
       "75%        349.000000\n",
       "max       2000.000000\n",
       "Name: sale_price, dtype: float64"
      ]
     },
     "execution_count": 55,
     "metadata": {},
     "output_type": "execute_result"
    }
   ],
   "source": [
    "data_train['sale_price'].describe()"
   ]
  },
  {
   "cell_type": "code",
   "execution_count": 56,
   "id": "a1c384fa-870e-45b3-aacc-19b3de5b3de5",
   "metadata": {},
   "outputs": [
    {
     "data": {
      "text/plain": [
       "2.45"
      ]
     },
     "execution_count": 56,
     "metadata": {},
     "output_type": "execute_result"
    }
   ],
   "source": [
    "sale_price_min=data_train['sale_price'].min()\n",
    "sale_price_min"
   ]
  },
  {
   "cell_type": "code",
   "execution_count": 57,
   "id": "f6cfb335-19d5-42bb-bcb5-261239b79b25",
   "metadata": {},
   "outputs": [
    {
     "data": {
      "text/plain": [
       "2000.0"
      ]
     },
     "execution_count": 57,
     "metadata": {},
     "output_type": "execute_result"
    }
   ],
   "source": [
    "sale_price_max=data_train['sale_price'].max()\n",
    "sale_price_max"
   ]
  },
  {
   "cell_type": "code",
   "execution_count": 58,
   "id": "a4fb1fe1-9885-4715-8dae-82015ee2b781",
   "metadata": {},
   "outputs": [],
   "source": [
    "# scaling the sale price using min max scaler and aading it as new column to dataframe\n",
    "from sklearn.preprocessing import MinMaxScaler\n",
    "\n",
    "scaler = MinMaxScaler()\n",
    "data_train['sale_price_scaled']=scaler.fit_transform(data_train['sale_price'].values.reshape(-1,1))"
   ]
  },
  {
   "cell_type": "code",
   "execution_count": 59,
   "id": "246b249a-96ea-4266-a6ee-40fae20aee12",
   "metadata": {},
   "outputs": [
    {
     "data": {
      "text/html": [
       "<div>\n",
       "<style scoped>\n",
       "    .dataframe tbody tr th:only-of-type {\n",
       "        vertical-align: middle;\n",
       "    }\n",
       "\n",
       "    .dataframe tbody tr th {\n",
       "        vertical-align: top;\n",
       "    }\n",
       "\n",
       "    .dataframe thead th {\n",
       "        text-align: right;\n",
       "    }\n",
       "</style>\n",
       "<table border=\"1\" class=\"dataframe\">\n",
       "  <thead>\n",
       "    <tr style=\"text-align: right;\">\n",
       "      <th></th>\n",
       "      <th>product</th>\n",
       "      <th>category</th>\n",
       "      <th>sub_category</th>\n",
       "      <th>brand</th>\n",
       "      <th>type</th>\n",
       "      <th>description</th>\n",
       "      <th>sale_price</th>\n",
       "      <th>market_price</th>\n",
       "      <th>negative</th>\n",
       "      <th>neutral</th>\n",
       "      <th>positive</th>\n",
       "      <th>compound</th>\n",
       "      <th>sale_price_scaled</th>\n",
       "    </tr>\n",
       "  </thead>\n",
       "  <tbody>\n",
       "    <tr>\n",
       "      <th>0</th>\n",
       "      <td>Flour - Corn</td>\n",
       "      <td>foodgrains_oil_masala</td>\n",
       "      <td>organicstaples</td>\n",
       "      <td>organictattva</td>\n",
       "      <td>organicflours</td>\n",
       "      <td>per calories fat</td>\n",
       "      <td>57.0</td>\n",
       "      <td>60.0</td>\n",
       "      <td>0.0</td>\n",
       "      <td>1.000</td>\n",
       "      <td>0.000</td>\n",
       "      <td>0.0000</td>\n",
       "      <td>0.027308</td>\n",
       "    </tr>\n",
       "    <tr>\n",
       "      <th>1</th>\n",
       "      <td>Veg. Burger Patty</td>\n",
       "      <td>snacks_brandedfoods</td>\n",
       "      <td>frozenveggies_snacks</td>\n",
       "      <td>yummiez</td>\n",
       "      <td>frozenvegsnacks</td>\n",
       "      <td>real good veg burger patty choice eating beefy...</td>\n",
       "      <td>125.0</td>\n",
       "      <td>125.0</td>\n",
       "      <td>0.0</td>\n",
       "      <td>0.611</td>\n",
       "      <td>0.389</td>\n",
       "      <td>0.9484</td>\n",
       "      <td>0.061350</td>\n",
       "    </tr>\n",
       "    <tr>\n",
       "      <th>2</th>\n",
       "      <td>Dosa Rice/Akki</td>\n",
       "      <td>foodgrains_oil_masala</td>\n",
       "      <td>rice_riceproducts</td>\n",
       "      <td>supersaver</td>\n",
       "      <td>rawrice</td>\n",
       "      <td>rice dosa easy make premium dosa mix used make...</td>\n",
       "      <td>199.0</td>\n",
       "      <td>225.0</td>\n",
       "      <td>0.0</td>\n",
       "      <td>0.811</td>\n",
       "      <td>0.189</td>\n",
       "      <td>0.8126</td>\n",
       "      <td>0.098396</td>\n",
       "    </tr>\n",
       "    <tr>\n",
       "      <th>3</th>\n",
       "      <td>Skimmed Milk Powder</td>\n",
       "      <td>gourmet_worldfood</td>\n",
       "      <td>cooking_bakingneeds</td>\n",
       "      <td>puramate</td>\n",
       "      <td>baking_cakedecorations</td>\n",
       "      <td>puramate skimmed milk powder makes wholesome m...</td>\n",
       "      <td>58.5</td>\n",
       "      <td>65.0</td>\n",
       "      <td>0.0</td>\n",
       "      <td>0.780</td>\n",
       "      <td>0.220</td>\n",
       "      <td>0.9723</td>\n",
       "      <td>0.028059</td>\n",
       "    </tr>\n",
       "    <tr>\n",
       "      <th>4</th>\n",
       "      <td>Kiwi Drink</td>\n",
       "      <td>gourmet_worldfood</td>\n",
       "      <td>drinks_beverages</td>\n",
       "      <td>alafresh</td>\n",
       "      <td>gourmetjuices_drinks</td>\n",
       "      <td>ala fresh kiwi fruit drink refreshing fruit dr...</td>\n",
       "      <td>10.0</td>\n",
       "      <td>10.0</td>\n",
       "      <td>0.0</td>\n",
       "      <td>0.667</td>\n",
       "      <td>0.333</td>\n",
       "      <td>0.8402</td>\n",
       "      <td>0.003780</td>\n",
       "    </tr>\n",
       "  </tbody>\n",
       "</table>\n",
       "</div>"
      ],
      "text/plain": [
       "               product               category          sub_category  \\\n",
       "0         Flour - Corn  foodgrains_oil_masala        organicstaples   \n",
       "1    Veg. Burger Patty    snacks_brandedfoods  frozenveggies_snacks   \n",
       "2       Dosa Rice/Akki  foodgrains_oil_masala     rice_riceproducts   \n",
       "3  Skimmed Milk Powder      gourmet_worldfood   cooking_bakingneeds   \n",
       "4           Kiwi Drink      gourmet_worldfood      drinks_beverages   \n",
       "\n",
       "           brand                    type  \\\n",
       "0  organictattva           organicflours   \n",
       "1        yummiez         frozenvegsnacks   \n",
       "2     supersaver                 rawrice   \n",
       "3       puramate  baking_cakedecorations   \n",
       "4       alafresh    gourmetjuices_drinks   \n",
       "\n",
       "                                         description  sale_price  \\\n",
       "0                                   per calories fat        57.0   \n",
       "1  real good veg burger patty choice eating beefy...       125.0   \n",
       "2  rice dosa easy make premium dosa mix used make...       199.0   \n",
       "3  puramate skimmed milk powder makes wholesome m...        58.5   \n",
       "4  ala fresh kiwi fruit drink refreshing fruit dr...        10.0   \n",
       "\n",
       "   market_price  negative  neutral  positive  compound  sale_price_scaled  \n",
       "0          60.0       0.0    1.000     0.000    0.0000           0.027308  \n",
       "1         125.0       0.0    0.611     0.389    0.9484           0.061350  \n",
       "2         225.0       0.0    0.811     0.189    0.8126           0.098396  \n",
       "3          65.0       0.0    0.780     0.220    0.9723           0.028059  \n",
       "4          10.0       0.0    0.667     0.333    0.8402           0.003780  "
      ]
     },
     "execution_count": 59,
     "metadata": {},
     "output_type": "execute_result"
    }
   ],
   "source": [
    "data_train.head()"
   ]
  },
  {
   "cell_type": "code",
   "execution_count": 61,
   "id": "ecc030c8-6c40-4429-884a-5c0031478554",
   "metadata": {},
   "outputs": [
    {
     "data": {
      "text/html": [
       "<div>\n",
       "<style scoped>\n",
       "    .dataframe tbody tr th:only-of-type {\n",
       "        vertical-align: middle;\n",
       "    }\n",
       "\n",
       "    .dataframe tbody tr th {\n",
       "        vertical-align: top;\n",
       "    }\n",
       "\n",
       "    .dataframe thead th {\n",
       "        text-align: right;\n",
       "    }\n",
       "</style>\n",
       "<table border=\"1\" class=\"dataframe\">\n",
       "  <thead>\n",
       "    <tr style=\"text-align: right;\">\n",
       "      <th></th>\n",
       "      <th>sale_price_scaled</th>\n",
       "      <th>negative</th>\n",
       "      <th>neutral</th>\n",
       "      <th>positive</th>\n",
       "      <th>compound</th>\n",
       "    </tr>\n",
       "  </thead>\n",
       "  <tbody>\n",
       "    <tr>\n",
       "      <th>count</th>\n",
       "      <td>21648.000000</td>\n",
       "      <td>21648.000000</td>\n",
       "      <td>21648.000000</td>\n",
       "      <td>21648.000000</td>\n",
       "      <td>21648.000000</td>\n",
       "    </tr>\n",
       "    <tr>\n",
       "      <th>mean</th>\n",
       "      <td>0.138666</td>\n",
       "      <td>0.038257</td>\n",
       "      <td>0.670894</td>\n",
       "      <td>0.290848</td>\n",
       "      <td>0.776339</td>\n",
       "    </tr>\n",
       "    <tr>\n",
       "      <th>std</th>\n",
       "      <td>0.148060</td>\n",
       "      <td>0.055506</td>\n",
       "      <td>0.131387</td>\n",
       "      <td>0.125547</td>\n",
       "      <td>0.311236</td>\n",
       "    </tr>\n",
       "    <tr>\n",
       "      <th>min</th>\n",
       "      <td>0.000000</td>\n",
       "      <td>0.000000</td>\n",
       "      <td>0.108000</td>\n",
       "      <td>0.000000</td>\n",
       "      <td>-0.982000</td>\n",
       "    </tr>\n",
       "    <tr>\n",
       "      <th>25%</th>\n",
       "      <td>0.046081</td>\n",
       "      <td>0.000000</td>\n",
       "      <td>0.584000</td>\n",
       "      <td>0.214000</td>\n",
       "      <td>0.735100</td>\n",
       "    </tr>\n",
       "    <tr>\n",
       "      <th>50%</th>\n",
       "      <td>0.093389</td>\n",
       "      <td>0.000000</td>\n",
       "      <td>0.664000</td>\n",
       "      <td>0.294000</td>\n",
       "      <td>0.907300</td>\n",
       "    </tr>\n",
       "    <tr>\n",
       "      <th>75%</th>\n",
       "      <td>0.173488</td>\n",
       "      <td>0.061000</td>\n",
       "      <td>0.748000</td>\n",
       "      <td>0.372000</td>\n",
       "      <td>0.964800</td>\n",
       "    </tr>\n",
       "    <tr>\n",
       "      <th>max</th>\n",
       "      <td>1.000000</td>\n",
       "      <td>0.630000</td>\n",
       "      <td>1.000000</td>\n",
       "      <td>0.892000</td>\n",
       "      <td>0.999800</td>\n",
       "    </tr>\n",
       "  </tbody>\n",
       "</table>\n",
       "</div>"
      ],
      "text/plain": [
       "       sale_price_scaled      negative       neutral      positive  \\\n",
       "count       21648.000000  21648.000000  21648.000000  21648.000000   \n",
       "mean            0.138666      0.038257      0.670894      0.290848   \n",
       "std             0.148060      0.055506      0.131387      0.125547   \n",
       "min             0.000000      0.000000      0.108000      0.000000   \n",
       "25%             0.046081      0.000000      0.584000      0.214000   \n",
       "50%             0.093389      0.000000      0.664000      0.294000   \n",
       "75%             0.173488      0.061000      0.748000      0.372000   \n",
       "max             1.000000      0.630000      1.000000      0.892000   \n",
       "\n",
       "           compound  \n",
       "count  21648.000000  \n",
       "mean       0.776339  \n",
       "std        0.311236  \n",
       "min       -0.982000  \n",
       "25%        0.735100  \n",
       "50%        0.907300  \n",
       "75%        0.964800  \n",
       "max        0.999800  "
      ]
     },
     "execution_count": 61,
     "metadata": {},
     "output_type": "execute_result"
    }
   ],
   "source": [
    "data_train[['sale_price_scaled','negative','neutral','positive','compound']].describe()"
   ]
  },
  {
   "cell_type": "code",
   "execution_count": 62,
   "id": "f9ef826a-99d1-4bed-8b8e-88664f4d65fb",
   "metadata": {},
   "outputs": [],
   "source": [
    "# concatenating sentiment scores of description,sale_price_scaled,discount_% for clustering analysis\n",
    "# using only numerical features for getting means(centroids) of cluster for further assignment\n",
    "X_train = np.hstack((data_train['sale_price_scaled'].values.reshape(-1,1),\\\n",
    "           data_train['negative'].values.reshape(-1,1),data_train['neutral'].values.reshape(-1,1), \\\n",
    "           data_train['positive'].values.reshape(-1,1),data_train['compound'].values.reshape(-1,1)))"
   ]
  },
  {
   "cell_type": "code",
   "execution_count": 63,
   "id": "2174b3e6-6948-4a5e-8d6e-e1b147cf3932",
   "metadata": {},
   "outputs": [
    {
     "data": {
      "text/plain": [
       "(21648, 5)"
      ]
     },
     "execution_count": 63,
     "metadata": {},
     "output_type": "execute_result"
    }
   ],
   "source": [
    "X_train.shape"
   ]
  },
  {
   "cell_type": "code",
   "execution_count": 64,
   "id": "867e5603-accf-48c5-aaa2-7bb4fd08827c",
   "metadata": {},
   "outputs": [
    {
     "data": {
      "image/png": "[encoded data removed]",
      "text/plain": [
       "<Figure size 1000x500 with 1 Axes>"
      ]
     },
     "metadata": {},
     "output_type": "display_data"
    },
    {
     "name": "stdout",
     "output_type": "stream",
     "text": [
      "CPU times: total: 11min 59s\n",
      "Wall time: 5min\n"
     ]
    }
   ],
   "source": [
    "%%time\n",
    "# performing clustering using Kmeans \n",
    "from sklearn.cluster import KMeans\n",
    "from sklearn.metrics import silhouette_score # to evaluate clustering performance\n",
    "silhouette_scr=[]\n",
    "K=range(2,41)\n",
    "for k in K:\n",
    "    kmeans=KMeans(n_clusters=k,n_init=12,max_iter=200) # setting KMeans cluster with 12 different centriod initializations & 200 iterations for a single run\n",
    "    kmeans=kmeans.fit(X_train)\n",
    "    labels=kmeans.labels_\n",
    "    \n",
    "    # silhouette score\n",
    "    silhouette_scr.append(silhouette_score(X_train,labels))\n",
    "\n",
    "plt.plot(K,silhouette_scr,'b*-')\n",
    "plt.xlabel('K: No.of Clusters')\n",
    "plt.ylabel('Silhouette score')\n",
    "plt.title('Silhouette analysis For Optimal k')\n",
    "plt.show()"
   ]
  },
  {
   "cell_type": "code",
   "execution_count": 65,
   "id": "d0669cc1-2c18-45ff-a871-0e2cc6ecc16e",
   "metadata": {},
   "outputs": [],
   "source": [
    "# will group data into 5 clusters\n",
    "best_k=5\n",
    "kmeans=KMeans(n_clusters=best_k,n_init=12,max_iter=200) # setting KMeans cluster with 12 different centriod initializations & 200 iterations for a single run\n",
    "kmeans=kmeans.fit(X_train)"
   ]
  },
  {
   "cell_type": "code",
   "execution_count": 66,
   "id": "c91cc535-497d-4a05-a39d-d6c3068fd8e5",
   "metadata": {},
   "outputs": [
    {
     "data": {
      "text/plain": [
       "21648"
      ]
     },
     "execution_count": 66,
     "metadata": {},
     "output_type": "execute_result"
    }
   ],
   "source": [
    "labels=kmeans.labels_ # labels for each product given by clustering model\n",
    "len(labels)"
   ]
  },
  {
   "cell_type": "code",
   "execution_count": 67,
   "id": "0a3fc015-ebb5-4ade-ae2f-eb2cc318dbe0",
   "metadata": {},
   "outputs": [
    {
     "data": {
      "text/plain": [
       "array([[ 0.10813467,  0.02739238,  0.70960221,  0.26300482,  0.8828916 ],\n",
       "       [ 0.10651338,  0.08750694,  0.85082136,  0.06166144, -0.11017345],\n",
       "       [ 0.53763415,  0.03489342,  0.64349216,  0.3216    ,  0.91124966],\n",
       "       [ 0.10826748,  0.04945531,  0.77143948,  0.17910274,  0.4950651 ],\n",
       "       [ 0.10504246,  0.03603091,  0.54762706,  0.41634501,  0.93902273]])"
      ]
     },
     "execution_count": 67,
     "metadata": {},
     "output_type": "execute_result"
    }
   ],
   "source": [
    "# getting centroids\n",
    "cluster_centers=kmeans.cluster_centers_\n",
    "cluster_centers"
   ]
  },
  {
   "cell_type": "code",
   "execution_count": 68,
   "id": "c3aacf38-d899-4a04-ba18-042512dd0ad2",
   "metadata": {},
   "outputs": [],
   "source": [
    "#saving cluster centers to pkl file\n",
    "pickle.dump(cluster_centers,open('cluster_centers.pkl','wb'))"
   ]
  },
  {
   "cell_type": "code",
   "execution_count": 69,
   "id": "33fde3e1-5f56-455d-97a3-a0bcfd36afad",
   "metadata": {},
   "outputs": [
    {
     "data": {
      "text/html": [
       "<div>\n",
       "<style scoped>\n",
       "    .dataframe tbody tr th:only-of-type {\n",
       "        vertical-align: middle;\n",
       "    }\n",
       "\n",
       "    .dataframe tbody tr th {\n",
       "        vertical-align: top;\n",
       "    }\n",
       "\n",
       "    .dataframe thead th {\n",
       "        text-align: right;\n",
       "    }\n",
       "</style>\n",
       "<table border=\"1\" class=\"dataframe\">\n",
       "  <thead>\n",
       "    <tr style=\"text-align: right;\">\n",
       "      <th></th>\n",
       "      <th>product</th>\n",
       "      <th>category</th>\n",
       "      <th>sub_category</th>\n",
       "      <th>brand</th>\n",
       "      <th>type</th>\n",
       "      <th>description</th>\n",
       "      <th>sale_price</th>\n",
       "      <th>market_price</th>\n",
       "      <th>negative</th>\n",
       "      <th>neutral</th>\n",
       "      <th>positive</th>\n",
       "      <th>compound</th>\n",
       "      <th>sale_price_scaled</th>\n",
       "      <th>cluster_label</th>\n",
       "    </tr>\n",
       "  </thead>\n",
       "  <tbody>\n",
       "    <tr>\n",
       "      <th>0</th>\n",
       "      <td>Flour - Corn</td>\n",
       "      <td>foodgrains_oil_masala</td>\n",
       "      <td>organicstaples</td>\n",
       "      <td>organictattva</td>\n",
       "      <td>organicflours</td>\n",
       "      <td>per calories fat</td>\n",
       "      <td>57.0</td>\n",
       "      <td>60.0</td>\n",
       "      <td>0.0</td>\n",
       "      <td>1.000</td>\n",
       "      <td>0.000</td>\n",
       "      <td>0.0000</td>\n",
       "      <td>0.027308</td>\n",
       "      <td>1</td>\n",
       "    </tr>\n",
       "    <tr>\n",
       "      <th>1</th>\n",
       "      <td>Veg. Burger Patty</td>\n",
       "      <td>snacks_brandedfoods</td>\n",
       "      <td>frozenveggies_snacks</td>\n",
       "      <td>yummiez</td>\n",
       "      <td>frozenvegsnacks</td>\n",
       "      <td>real good veg burger patty choice eating beefy...</td>\n",
       "      <td>125.0</td>\n",
       "      <td>125.0</td>\n",
       "      <td>0.0</td>\n",
       "      <td>0.611</td>\n",
       "      <td>0.389</td>\n",
       "      <td>0.9484</td>\n",
       "      <td>0.061350</td>\n",
       "      <td>4</td>\n",
       "    </tr>\n",
       "    <tr>\n",
       "      <th>2</th>\n",
       "      <td>Dosa Rice/Akki</td>\n",
       "      <td>foodgrains_oil_masala</td>\n",
       "      <td>rice_riceproducts</td>\n",
       "      <td>supersaver</td>\n",
       "      <td>rawrice</td>\n",
       "      <td>rice dosa easy make premium dosa mix used make...</td>\n",
       "      <td>199.0</td>\n",
       "      <td>225.0</td>\n",
       "      <td>0.0</td>\n",
       "      <td>0.811</td>\n",
       "      <td>0.189</td>\n",
       "      <td>0.8126</td>\n",
       "      <td>0.098396</td>\n",
       "      <td>0</td>\n",
       "    </tr>\n",
       "    <tr>\n",
       "      <th>3</th>\n",
       "      <td>Skimmed Milk Powder</td>\n",
       "      <td>gourmet_worldfood</td>\n",
       "      <td>cooking_bakingneeds</td>\n",
       "      <td>puramate</td>\n",
       "      <td>baking_cakedecorations</td>\n",
       "      <td>puramate skimmed milk powder makes wholesome m...</td>\n",
       "      <td>58.5</td>\n",
       "      <td>65.0</td>\n",
       "      <td>0.0</td>\n",
       "      <td>0.780</td>\n",
       "      <td>0.220</td>\n",
       "      <td>0.9723</td>\n",
       "      <td>0.028059</td>\n",
       "      <td>0</td>\n",
       "    </tr>\n",
       "    <tr>\n",
       "      <th>4</th>\n",
       "      <td>Kiwi Drink</td>\n",
       "      <td>gourmet_worldfood</td>\n",
       "      <td>drinks_beverages</td>\n",
       "      <td>alafresh</td>\n",
       "      <td>gourmetjuices_drinks</td>\n",
       "      <td>ala fresh kiwi fruit drink refreshing fruit dr...</td>\n",
       "      <td>10.0</td>\n",
       "      <td>10.0</td>\n",
       "      <td>0.0</td>\n",
       "      <td>0.667</td>\n",
       "      <td>0.333</td>\n",
       "      <td>0.8402</td>\n",
       "      <td>0.003780</td>\n",
       "      <td>0</td>\n",
       "    </tr>\n",
       "  </tbody>\n",
       "</table>\n",
       "</div>"
      ],
      "text/plain": [
       "               product               category          sub_category  \\\n",
       "0         Flour - Corn  foodgrains_oil_masala        organicstaples   \n",
       "1    Veg. Burger Patty    snacks_brandedfoods  frozenveggies_snacks   \n",
       "2       Dosa Rice/Akki  foodgrains_oil_masala     rice_riceproducts   \n",
       "3  Skimmed Milk Powder      gourmet_worldfood   cooking_bakingneeds   \n",
       "4           Kiwi Drink      gourmet_worldfood      drinks_beverages   \n",
       "\n",
       "           brand                    type  \\\n",
       "0  organictattva           organicflours   \n",
       "1        yummiez         frozenvegsnacks   \n",
       "2     supersaver                 rawrice   \n",
       "3       puramate  baking_cakedecorations   \n",
       "4       alafresh    gourmetjuices_drinks   \n",
       "\n",
       "                                         description  sale_price  \\\n",
       "0                                   per calories fat        57.0   \n",
       "1  real good veg burger patty choice eating beefy...       125.0   \n",
       "2  rice dosa easy make premium dosa mix used make...       199.0   \n",
       "3  puramate skimmed milk powder makes wholesome m...        58.5   \n",
       "4  ala fresh kiwi fruit drink refreshing fruit dr...        10.0   \n",
       "\n",
       "   market_price  negative  neutral  positive  compound  sale_price_scaled  \\\n",
       "0          60.0       0.0    1.000     0.000    0.0000           0.027308   \n",
       "1         125.0       0.0    0.611     0.389    0.9484           0.061350   \n",
       "2         225.0       0.0    0.811     0.189    0.8126           0.098396   \n",
       "3          65.0       0.0    0.780     0.220    0.9723           0.028059   \n",
       "4          10.0       0.0    0.667     0.333    0.8402           0.003780   \n",
       "\n",
       "   cluster_label  \n",
       "0              1  \n",
       "1              4  \n",
       "2              0  \n",
       "3              0  \n",
       "4              0  "
      ]
     },
     "execution_count": 69,
     "metadata": {},
     "output_type": "execute_result"
    }
   ],
   "source": [
    "# inserting cluster_label as column \n",
    "data_train['cluster_label']=labels\n",
    "data_train.head()"
   ]
  },
  {
   "cell_type": "code",
   "execution_count": 70,
   "id": "28bdefbd-d0bd-4ed9-9fd2-039650423839",
   "metadata": {},
   "outputs": [],
   "source": [
    "#saving preprocessed train data to csv\n",
    "data_train.to_csv('train_preprocessed_with_clusterlabels.csv',index=False)"
   ]
  },
  {
   "cell_type": "code",
   "execution_count": 71,
   "id": "b834f1ea-fffa-4e76-8952-550565de06b5",
   "metadata": {},
   "outputs": [],
   "source": [
    "# saving raw test data to csv\n",
    "data_test.to_csv('test_raw.csv',index=False)"
   ]
  },
  {
   "cell_type": "code",
   "execution_count": 73,
   "id": "80add4f1-6987-4f53-acca-9c584af02e5b",
   "metadata": {},
   "outputs": [
    {
     "data": {
      "text/html": [
       "<div>\n",
       "<style scoped>\n",
       "    .dataframe tbody tr th:only-of-type {\n",
       "        vertical-align: middle;\n",
       "    }\n",
       "\n",
       "    .dataframe tbody tr th {\n",
       "        vertical-align: top;\n",
       "    }\n",
       "\n",
       "    .dataframe thead th {\n",
       "        text-align: right;\n",
       "    }\n",
       "</style>\n",
       "<table border=\"1\" class=\"dataframe\">\n",
       "  <thead>\n",
       "    <tr style=\"text-align: right;\">\n",
       "      <th></th>\n",
       "      <th>product</th>\n",
       "      <th>category</th>\n",
       "      <th>sub_category</th>\n",
       "      <th>brand</th>\n",
       "      <th>type</th>\n",
       "      <th>description</th>\n",
       "      <th>sale_price</th>\n",
       "      <th>market_price</th>\n",
       "      <th>negative</th>\n",
       "      <th>neutral</th>\n",
       "      <th>positive</th>\n",
       "      <th>compound</th>\n",
       "      <th>sale_price_scaled</th>\n",
       "      <th>cluster_label</th>\n",
       "    </tr>\n",
       "  </thead>\n",
       "  <tbody>\n",
       "    <tr>\n",
       "      <th>0</th>\n",
       "      <td>Flour - Corn</td>\n",
       "      <td>foodgrains_oil_masala</td>\n",
       "      <td>organicstaples</td>\n",
       "      <td>organictattva</td>\n",
       "      <td>organicflours</td>\n",
       "      <td>per calories fat</td>\n",
       "      <td>57.0</td>\n",
       "      <td>60.0</td>\n",
       "      <td>0.0</td>\n",
       "      <td>1.000</td>\n",
       "      <td>0.000</td>\n",
       "      <td>0.0000</td>\n",
       "      <td>0.027308</td>\n",
       "      <td>1</td>\n",
       "    </tr>\n",
       "    <tr>\n",
       "      <th>1</th>\n",
       "      <td>Veg. Burger Patty</td>\n",
       "      <td>snacks_brandedfoods</td>\n",
       "      <td>frozenveggies_snacks</td>\n",
       "      <td>yummiez</td>\n",
       "      <td>frozenvegsnacks</td>\n",
       "      <td>real good veg burger patty choice eating beefy...</td>\n",
       "      <td>125.0</td>\n",
       "      <td>125.0</td>\n",
       "      <td>0.0</td>\n",
       "      <td>0.611</td>\n",
       "      <td>0.389</td>\n",
       "      <td>0.9484</td>\n",
       "      <td>0.061350</td>\n",
       "      <td>4</td>\n",
       "    </tr>\n",
       "    <tr>\n",
       "      <th>2</th>\n",
       "      <td>Dosa Rice/Akki</td>\n",
       "      <td>foodgrains_oil_masala</td>\n",
       "      <td>rice_riceproducts</td>\n",
       "      <td>supersaver</td>\n",
       "      <td>rawrice</td>\n",
       "      <td>rice dosa easy make premium dosa mix used make...</td>\n",
       "      <td>199.0</td>\n",
       "      <td>225.0</td>\n",
       "      <td>0.0</td>\n",
       "      <td>0.811</td>\n",
       "      <td>0.189</td>\n",
       "      <td>0.8126</td>\n",
       "      <td>0.098396</td>\n",
       "      <td>0</td>\n",
       "    </tr>\n",
       "    <tr>\n",
       "      <th>3</th>\n",
       "      <td>Skimmed Milk Powder</td>\n",
       "      <td>gourmet_worldfood</td>\n",
       "      <td>cooking_bakingneeds</td>\n",
       "      <td>puramate</td>\n",
       "      <td>baking_cakedecorations</td>\n",
       "      <td>puramate skimmed milk powder makes wholesome m...</td>\n",
       "      <td>58.5</td>\n",
       "      <td>65.0</td>\n",
       "      <td>0.0</td>\n",
       "      <td>0.780</td>\n",
       "      <td>0.220</td>\n",
       "      <td>0.9723</td>\n",
       "      <td>0.028059</td>\n",
       "      <td>0</td>\n",
       "    </tr>\n",
       "    <tr>\n",
       "      <th>4</th>\n",
       "      <td>Kiwi Drink</td>\n",
       "      <td>gourmet_worldfood</td>\n",
       "      <td>drinks_beverages</td>\n",
       "      <td>alafresh</td>\n",
       "      <td>gourmetjuices_drinks</td>\n",
       "      <td>ala fresh kiwi fruit drink refreshing fruit dr...</td>\n",
       "      <td>10.0</td>\n",
       "      <td>10.0</td>\n",
       "      <td>0.0</td>\n",
       "      <td>0.667</td>\n",
       "      <td>0.333</td>\n",
       "      <td>0.8402</td>\n",
       "      <td>0.003780</td>\n",
       "      <td>0</td>\n",
       "    </tr>\n",
       "  </tbody>\n",
       "</table>\n",
       "</div>"
      ],
      "text/plain": [
       "               product               category          sub_category  \\\n",
       "0         Flour - Corn  foodgrains_oil_masala        organicstaples   \n",
       "1    Veg. Burger Patty    snacks_brandedfoods  frozenveggies_snacks   \n",
       "2       Dosa Rice/Akki  foodgrains_oil_masala     rice_riceproducts   \n",
       "3  Skimmed Milk Powder      gourmet_worldfood   cooking_bakingneeds   \n",
       "4           Kiwi Drink      gourmet_worldfood      drinks_beverages   \n",
       "\n",
       "           brand                    type  \\\n",
       "0  organictattva           organicflours   \n",
       "1        yummiez         frozenvegsnacks   \n",
       "2     supersaver                 rawrice   \n",
       "3       puramate  baking_cakedecorations   \n",
       "4       alafresh    gourmetjuices_drinks   \n",
       "\n",
       "                                         description  sale_price  \\\n",
       "0                                   per calories fat        57.0   \n",
       "1  real good veg burger patty choice eating beefy...       125.0   \n",
       "2  rice dosa easy make premium dosa mix used make...       199.0   \n",
       "3  puramate skimmed milk powder makes wholesome m...        58.5   \n",
       "4  ala fresh kiwi fruit drink refreshing fruit dr...        10.0   \n",
       "\n",
       "   market_price  negative  neutral  positive  compound  sale_price_scaled  \\\n",
       "0          60.0       0.0    1.000     0.000    0.0000           0.027308   \n",
       "1         125.0       0.0    0.611     0.389    0.9484           0.061350   \n",
       "2         225.0       0.0    0.811     0.189    0.8126           0.098396   \n",
       "3          65.0       0.0    0.780     0.220    0.9723           0.028059   \n",
       "4          10.0       0.0    0.667     0.333    0.8402           0.003780   \n",
       "\n",
       "   cluster_label  \n",
       "0              1  \n",
       "1              4  \n",
       "2              0  \n",
       "3              0  \n",
       "4              0  "
      ]
     },
     "execution_count": 73,
     "metadata": {},
     "output_type": "execute_result"
    }
   ],
   "source": [
    "# load preprocessed train data\n",
    "df=pd.read_csv('train_preprocessed_with_clusterlabels.csv')\n",
    "df.head()"
   ]
  },
  {
   "cell_type": "code",
   "execution_count": 74,
   "id": "7af117d6-32a7-4e88-8919-e3fb6685bce6",
   "metadata": {},
   "outputs": [
    {
     "data": {
      "text/plain": [
       "(21648, 14)"
      ]
     },
     "execution_count": 74,
     "metadata": {},
     "output_type": "execute_result"
    }
   ],
   "source": [
    "df.columns\n",
    "df.shape"
   ]
  },
  {
   "cell_type": "code",
   "execution_count": 75,
   "id": "8da1e8a9-72ee-445a-b45d-b9fc76c8d001",
   "metadata": {},
   "outputs": [],
   "source": [
    "import os\n",
    "\n",
    "# Path to the GloVe text file\n",
    "glove_file_path = r'C:\\Users\\harshita.chigati\\Desktop\\Python files\\NLP\\glove_data\\glove.6B.50d.txt'\n",
    "\n",
    "# Check if the file exists\n",
    "if os.path.isfile(glove_file_path):\n",
    "    # Read the GloVe file and process its contents\n",
    "    glove_words = set()\n",
    "    with open(glove_file_path, 'r', encoding='utf-8') as f:\n",
    "        for line in f:\n",
    "            word_vector = line.split()\n",
    "            word = word_vector[0]  # Extract the word\n",
    "            glove_words.add(word)\n",
    "else:\n",
    "    print(f\"The GloVe file '{glove_file_path}' does not exist.\")\n",
    "\n",
    "# Now glove_words contains the set of words in the GloVe file\n"
   ]
  },
  {
   "cell_type": "code",
   "execution_count": 76,
   "id": "0274d2b5-9919-465b-b44e-cdea6a2ccf42",
   "metadata": {},
   "outputs": [],
   "source": [
    "# Check if the file exists\n",
    "if os.path.isfile(glove_file_path):\n",
    "    # Create a dictionary to store word vectors\n",
    "    glove_vectors = {}\n",
    "    with open(glove_file_path, 'r', encoding='utf-8') as f:\n",
    "        for line in f:\n",
    "            values = line.split()\n",
    "            word = values[0]\n",
    "            vector = list(map(float, values[1:]))\n",
    "            glove_vectors[word] = vector\n",
    "else:\n",
    "    print(f\"The GloVe file '{glove_file_path}' does not exist.\")\n",
    "\n",
    "# Now glove_vectors is a dictionary where keys are words and values are their corresponding vectors\n"
   ]
  },
  {
   "cell_type": "markdown",
   "id": "e0e54273-6222-4a24-b6bf-c2a8195149c1",
   "metadata": {},
   "source": [
    "### NER"
   ]
  },
  {
   "cell_type": "code",
   "execution_count": 77,
   "id": "1198a30c-335f-4bf3-afd9-c60cd53c7fff",
   "metadata": {},
   "outputs": [],
   "source": [
    "import pandas as pd\n",
    "import spacy\n",
    "\n",
    "# Load SpaCy English language model (large)\n",
    "nlp = spacy.load(\"en_core_web_lg\")"
   ]
  },
  {
   "cell_type": "code",
   "execution_count": 78,
   "id": "6ad67778-e4b3-4f28-9f51-38e53bfa440b",
   "metadata": {},
   "outputs": [
    {
     "name": "stdout",
     "output_type": "stream",
     "text": [
      "                                             description  \\\n",
      "0                                       per calories fat   \n",
      "1      real good veg burger patty choice eating beefy...   \n",
      "2      rice dosa easy make premium dosa mix used make...   \n",
      "3      puramate skimmed milk powder makes wholesome m...   \n",
      "4      ala fresh kiwi fruit drink refreshing fruit dr...   \n",
      "...                                                  ...   \n",
      "21643  biotique tea tree anti imperfection daily solu...   \n",
      "21644  adore flawless skin wish perfect skin tone fee...   \n",
      "21645  paw sitively smooth protects lovely pooch paws...   \n",
      "21646  colorsilk ammonia permanent hair colour infuse...   \n",
      "21647  refill pack adjustable major brands light weig...   \n",
      "\n",
      "                                  ner_entities  \n",
      "0                                           []  \n",
      "1                             [(indian, NORP)]  \n",
      "2      [(rice dosa, ORG), (idlis kanjis, ORG)]  \n",
      "3                                           []  \n",
      "4                [(ala, ORG), (thailand, GPE)]  \n",
      "...                                        ...  \n",
      "21643                          [(daily, DATE)]  \n",
      "21644                          [(weeks, DATE)]  \n",
      "21645                                       []  \n",
      "21646                [(tip colorsilk, PERSON)]  \n",
      "21647                                       []  \n",
      "\n",
      "[21648 rows x 2 columns]\n",
      "                                         product               category  \\\n",
      "0                                   Flour - Corn  foodgrains_oil_masala   \n",
      "1                              Veg. Burger Patty    snacks_brandedfoods   \n",
      "2                                 Dosa Rice/Akki  foodgrains_oil_masala   \n",
      "3                            Skimmed Milk Powder      gourmet_worldfood   \n",
      "4                                     Kiwi Drink      gourmet_worldfood   \n",
      "...                                          ...                    ...   \n",
      "21643  Tea Tree Anti Imperfection Daily Solution         beauty_hygiene   \n",
      "21644                  Intimate Lightening Serum         beauty_hygiene   \n",
      "21645    Paw'sitively Smooth Paw Butter For Dogs    kitchen_garden_pets   \n",
      "21646         Colorsilk Hair Colour With Keratin         beauty_hygiene   \n",
      "21647  Wet Mop - Micro Fiber Floor Square Refill     cleaning_household   \n",
      "\n",
      "               sub_category          brand                    type  \\\n",
      "0            organicstaples  organictattva           organicflours   \n",
      "1      frozenveggies_snacks        yummiez         frozenvegsnacks   \n",
      "2         rice_riceproducts     supersaver                 rawrice   \n",
      "3       cooking_bakingneeds       puramate  baking_cakedecorations   \n",
      "4          drinks_beverages       alafresh    gourmetjuices_drinks   \n",
      "...                     ...            ...                     ...   \n",
      "21643              skincare       biotique                facecare   \n",
      "21644              skincare         namyaa       intimatewash_care   \n",
      "21645   petfood_accessories    captainzack    petcleaning_grooming   \n",
      "21646              haircare         revlon               haircolor   \n",
      "21647   mops_brushes_scrubs           liao             mops_wipers   \n",
      "\n",
      "                                             description  sale_price  \\\n",
      "0                                       per calories fat       57.00   \n",
      "1      real good veg burger patty choice eating beefy...      125.00   \n",
      "2      rice dosa easy make premium dosa mix used make...      199.00   \n",
      "3      puramate skimmed milk powder makes wholesome m...       58.50   \n",
      "4      ala fresh kiwi fruit drink refreshing fruit dr...       10.00   \n",
      "...                                                  ...         ...   \n",
      "21643  biotique tea tree anti imperfection daily solu...      420.00   \n",
      "21644  adore flawless skin wish perfect skin tone fee...      750.00   \n",
      "21645  paw sitively smooth protects lovely pooch paws...      350.00   \n",
      "21646  colorsilk ammonia permanent hair colour infuse...      413.25   \n",
      "21647  refill pack adjustable major brands light weig...      239.00   \n",
      "\n",
      "       market_price  negative  neutral  positive  compound  sale_price_scaled  \\\n",
      "0              60.0     0.000    1.000     0.000    0.0000           0.027308   \n",
      "1             125.0     0.000    0.611     0.389    0.9484           0.061350   \n",
      "2             225.0     0.000    0.811     0.189    0.8126           0.098396   \n",
      "3              65.0     0.000    0.780     0.220    0.9723           0.028059   \n",
      "4              10.0     0.000    0.667     0.333    0.8402           0.003780   \n",
      "...             ...       ...      ...       ...       ...                ...   \n",
      "21643         560.0     0.122    0.635     0.243    0.7845           0.209031   \n",
      "21644         750.0     0.041    0.542     0.417    0.9931           0.374233   \n",
      "21645         350.0     0.000    0.705     0.295    0.9081           0.173988   \n",
      "21646         435.0     0.000    0.767     0.233    0.9538           0.205652   \n",
      "21647         395.0     0.000    1.000     0.000    0.0000           0.118420   \n",
      "\n",
      "       cluster_label                             ner_entities  \n",
      "0                  1                                       []  \n",
      "1                  4                         [(indian, NORP)]  \n",
      "2                  0  [(rice dosa, ORG), (idlis kanjis, ORG)]  \n",
      "3                  0                                       []  \n",
      "4                  0            [(ala, ORG), (thailand, GPE)]  \n",
      "...              ...                                      ...  \n",
      "21643              0                          [(daily, DATE)]  \n",
      "21644              2                          [(weeks, DATE)]  \n",
      "21645              0                                       []  \n",
      "21646              0                [(tip colorsilk, PERSON)]  \n",
      "21647              1                                       []  \n",
      "\n",
      "[21648 rows x 15 columns]\n"
     ]
    }
   ],
   "source": [
    "# Function to perform NER on description\n",
    "def perform_ner(text):\n",
    "    doc = nlp(text)\n",
    "    entities = [(ent.text, ent.label_) for ent in doc.ents]\n",
    "    return entities\n",
    "\n",
    "# Apply NER to description column\n",
    "df['ner_entities'] = df['description'].apply(perform_ner)\n",
    "\n",
    "# Display the DataFrame with NER entities\n",
    "print(df[['description', 'ner_entities']])\n",
    "\n",
    "print(df)"
   ]
  },
  {
   "cell_type": "code",
   "execution_count": 79,
   "id": "af26238d-42f7-4860-bc5f-1c1dd8428e19",
   "metadata": {},
   "outputs": [
    {
     "name": "stdout",
     "output_type": "stream",
     "text": [
      "Unique entity groups: {'QUANTITY', 'PRODUCT', 'ORG', 'PERSON', 'NORP', 'GPE', 'LOC', 'TIME', 'WORK_OF_ART', 'ORDINAL', 'FAC', 'EVENT', 'MONEY', 'LANGUAGE', 'DATE', 'CARDINAL', 'PERCENT', 'LAW'}\n"
     ]
    }
   ],
   "source": [
    "# Flatten the list of entities and get the second element of each tuple (which represents the entity group)\n",
    "flat_entity_groups = [entity[1] for sublist in df['ner_entities'] for entity in sublist]\n",
    "\n",
    "# Get unique entity groups\n",
    "unique_entity_groups = set(flat_entity_groups)\n",
    "\n",
    "# Display the unique entity groups\n",
    "print(\"Unique entity groups:\", unique_entity_groups)"
   ]
  },
  {
   "cell_type": "code",
   "execution_count": 80,
   "id": "15586dd7-09b2-496a-95f9-14a918d4fd39",
   "metadata": {},
   "outputs": [
    {
     "name": "stdout",
     "output_type": "stream",
     "text": [
      "                                         product               category  \\\n",
      "0                                   Flour - Corn  foodgrains_oil_masala   \n",
      "1                              Veg. Burger Patty    snacks_brandedfoods   \n",
      "2                                 Dosa Rice/Akki  foodgrains_oil_masala   \n",
      "3                            Skimmed Milk Powder      gourmet_worldfood   \n",
      "4                                     Kiwi Drink      gourmet_worldfood   \n",
      "...                                          ...                    ...   \n",
      "21643  Tea Tree Anti Imperfection Daily Solution         beauty_hygiene   \n",
      "21644                  Intimate Lightening Serum         beauty_hygiene   \n",
      "21645    Paw'sitively Smooth Paw Butter For Dogs    kitchen_garden_pets   \n",
      "21646         Colorsilk Hair Colour With Keratin         beauty_hygiene   \n",
      "21647  Wet Mop - Micro Fiber Floor Square Refill     cleaning_household   \n",
      "\n",
      "               sub_category          brand  sale_price  market_price  \\\n",
      "0            organicstaples  organictattva       57.00          60.0   \n",
      "1      frozenveggies_snacks        yummiez      125.00         125.0   \n",
      "2         rice_riceproducts     supersaver      199.00         225.0   \n",
      "3       cooking_bakingneeds       puramate       58.50          65.0   \n",
      "4          drinks_beverages       alafresh       10.00          10.0   \n",
      "...                     ...            ...         ...           ...   \n",
      "21643              skincare       biotique      420.00         560.0   \n",
      "21644              skincare         namyaa      750.00         750.0   \n",
      "21645   petfood_accessories    captainzack      350.00         350.0   \n",
      "21646              haircare         revlon      413.25         435.0   \n",
      "21647   mops_brushes_scrubs           liao      239.00         395.0   \n",
      "\n",
      "                         type  \\\n",
      "0               organicflours   \n",
      "1             frozenvegsnacks   \n",
      "2                     rawrice   \n",
      "3      baking_cakedecorations   \n",
      "4        gourmetjuices_drinks   \n",
      "...                       ...   \n",
      "21643                facecare   \n",
      "21644       intimatewash_care   \n",
      "21645    petcleaning_grooming   \n",
      "21646               haircolor   \n",
      "21647             mops_wipers   \n",
      "\n",
      "                                             description  \\\n",
      "0                                       per calories fat   \n",
      "1      real good veg burger patty choice eating beefy...   \n",
      "2      rice dosa easy make premium dosa mix used make...   \n",
      "3      puramate skimmed milk powder makes wholesome m...   \n",
      "4      ala fresh kiwi fruit drink refreshing fruit dr...   \n",
      "...                                                  ...   \n",
      "21643  biotique tea tree anti imperfection daily solu...   \n",
      "21644  adore flawless skin wish perfect skin tone fee...   \n",
      "21645  paw sitively smooth protects lovely pooch paws...   \n",
      "21646  colorsilk ammonia permanent hair colour infuse...   \n",
      "21647  refill pack adjustable major brands light weig...   \n",
      "\n",
      "                                  ner_entities quantity_entities  ...  \\\n",
      "0                                           []                []  ...   \n",
      "1                             [(indian, NORP)]                []  ...   \n",
      "2      [(rice dosa, ORG), (idlis kanjis, ORG)]                []  ...   \n",
      "3                                           []                []  ...   \n",
      "4                [(ala, ORG), (thailand, GPE)]                []  ...   \n",
      "...                                        ...               ...  ...   \n",
      "21643                          [(daily, DATE)]                []  ...   \n",
      "21644                          [(weeks, DATE)]                []  ...   \n",
      "21645                                       []                []  ...   \n",
      "21646                [(tip colorsilk, PERSON)]                []  ...   \n",
      "21647                                       []                []  ...   \n",
      "\n",
      "      work_of_art_entities ordinal_entities fac_entities event_entities  \\\n",
      "0                       []               []           []             []   \n",
      "1                       []               []           []             []   \n",
      "2                       []               []           []             []   \n",
      "3                       []               []           []             []   \n",
      "4                       []               []           []             []   \n",
      "...                    ...              ...          ...            ...   \n",
      "21643                   []               []           []             []   \n",
      "21644                   []               []           []             []   \n",
      "21645                   []               []           []             []   \n",
      "21646                   []               []           []             []   \n",
      "21647                   []               []           []             []   \n",
      "\n",
      "      money_entities language_entities date_entities cardinal_entities  \\\n",
      "0                 []                []            []                []   \n",
      "1                 []                []            []                []   \n",
      "2                 []                []            []                []   \n",
      "3                 []                []            []                []   \n",
      "4                 []                []            []                []   \n",
      "...              ...               ...           ...               ...   \n",
      "21643             []                []       [daily]                []   \n",
      "21644             []                []       [weeks]                []   \n",
      "21645             []                []            []                []   \n",
      "21646             []                []            []                []   \n",
      "21647             []                []            []                []   \n",
      "\n",
      "      percent_entities law_entities  \n",
      "0                   []           []  \n",
      "1                   []           []  \n",
      "2                   []           []  \n",
      "3                   []           []  \n",
      "4                   []           []  \n",
      "...                ...          ...  \n",
      "21643               []           []  \n",
      "21644               []           []  \n",
      "21645               []           []  \n",
      "21646               []           []  \n",
      "21647               []           []  \n",
      "\n",
      "[21648 rows x 27 columns]\n"
     ]
    }
   ],
   "source": [
    "# Create separate columns for each entity group\n",
    "for entity_group in unique_entity_groups:\n",
    "    column_name = f\"{entity_group.lower()}_entities\"  # New column name based on entity group\n",
    "    df[column_name] = df['ner_entities'].apply(lambda x: [entity[0] for entity in x if entity[1] == entity_group])\n",
    "\n",
    "# Display the DataFrame with separate columns for each entity group\n",
    "print(df[['product', 'category', 'sub_category', 'brand', 'sale_price', 'market_price', 'type', 'description', 'ner_entities'] + [f\"{entity_group.lower()}_entities\" for entity_group in unique_entity_groups]])\n"
   ]
  },
  {
   "cell_type": "code",
   "execution_count": 81,
   "id": "58a83718-e828-4cee-814c-30af81eb6028",
   "metadata": {},
   "outputs": [
    {
     "name": "stdout",
     "output_type": "stream",
     "text": [
      "                                         product               category  \\\n",
      "0                                   Flour - Corn  foodgrains_oil_masala   \n",
      "1                              Veg. Burger Patty    snacks_brandedfoods   \n",
      "2                                 Dosa Rice/Akki  foodgrains_oil_masala   \n",
      "3                            Skimmed Milk Powder      gourmet_worldfood   \n",
      "4                                     Kiwi Drink      gourmet_worldfood   \n",
      "...                                          ...                    ...   \n",
      "21643  Tea Tree Anti Imperfection Daily Solution         beauty_hygiene   \n",
      "21644                  Intimate Lightening Serum         beauty_hygiene   \n",
      "21645    Paw'sitively Smooth Paw Butter For Dogs    kitchen_garden_pets   \n",
      "21646         Colorsilk Hair Colour With Keratin         beauty_hygiene   \n",
      "21647  Wet Mop - Micro Fiber Floor Square Refill     cleaning_household   \n",
      "\n",
      "               sub_category          brand  sale_price  market_price  \\\n",
      "0            organicstaples  organictattva       57.00          60.0   \n",
      "1      frozenveggies_snacks        yummiez      125.00         125.0   \n",
      "2         rice_riceproducts     supersaver      199.00         225.0   \n",
      "3       cooking_bakingneeds       puramate       58.50          65.0   \n",
      "4          drinks_beverages       alafresh       10.00          10.0   \n",
      "...                     ...            ...         ...           ...   \n",
      "21643              skincare       biotique      420.00         560.0   \n",
      "21644              skincare         namyaa      750.00         750.0   \n",
      "21645   petfood_accessories    captainzack      350.00         350.0   \n",
      "21646              haircare         revlon      413.25         435.0   \n",
      "21647   mops_brushes_scrubs           liao      239.00         395.0   \n",
      "\n",
      "                         type  \\\n",
      "0               organicflours   \n",
      "1             frozenvegsnacks   \n",
      "2                     rawrice   \n",
      "3      baking_cakedecorations   \n",
      "4        gourmetjuices_drinks   \n",
      "...                       ...   \n",
      "21643                facecare   \n",
      "21644       intimatewash_care   \n",
      "21645    petcleaning_grooming   \n",
      "21646               haircolor   \n",
      "21647             mops_wipers   \n",
      "\n",
      "                                             description  \\\n",
      "0                                       per calories fat   \n",
      "1      real good veg burger patty choice eating beefy...   \n",
      "2      rice dosa easy make premium dosa mix used make...   \n",
      "3      puramate skimmed milk powder makes wholesome m...   \n",
      "4      ala fresh kiwi fruit drink refreshing fruit dr...   \n",
      "...                                                  ...   \n",
      "21643  biotique tea tree anti imperfection daily solu...   \n",
      "21644  adore flawless skin wish perfect skin tone fee...   \n",
      "21645  paw sitively smooth protects lovely pooch paws...   \n",
      "21646  colorsilk ammonia permanent hair colour infuse...   \n",
      "21647  refill pack adjustable major brands light weig...   \n",
      "\n",
      "                                  ner_entities quantity_entities  ...  \\\n",
      "0                                           []                []  ...   \n",
      "1                             [(indian, NORP)]                []  ...   \n",
      "2      [(rice dosa, ORG), (idlis kanjis, ORG)]                []  ...   \n",
      "3                                           []                []  ...   \n",
      "4                [(ala, ORG), (thailand, GPE)]                []  ...   \n",
      "...                                        ...               ...  ...   \n",
      "21643                          [(daily, DATE)]                []  ...   \n",
      "21644                          [(weeks, DATE)]                []  ...   \n",
      "21645                                       []                []  ...   \n",
      "21646                [(tip colorsilk, PERSON)]                []  ...   \n",
      "21647                                       []                []  ...   \n",
      "\n",
      "      work_of_art_entities ordinal_entities fac_entities event_entities  \\\n",
      "0                       []               []           []             []   \n",
      "1                       []               []           []             []   \n",
      "2                       []               []           []             []   \n",
      "3                       []               []           []             []   \n",
      "4                       []               []           []             []   \n",
      "...                    ...              ...          ...            ...   \n",
      "21643                   []               []           []             []   \n",
      "21644                   []               []           []             []   \n",
      "21645                   []               []           []             []   \n",
      "21646                   []               []           []             []   \n",
      "21647                   []               []           []             []   \n",
      "\n",
      "      money_entities language_entities date_entities cardinal_entities  \\\n",
      "0                 []                []            []                []   \n",
      "1                 []                []            []                []   \n",
      "2                 []                []            []                []   \n",
      "3                 []                []            []                []   \n",
      "4                 []                []            []                []   \n",
      "...              ...               ...           ...               ...   \n",
      "21643             []                []       [daily]                []   \n",
      "21644             []                []        [week]                []   \n",
      "21645             []                []            []                []   \n",
      "21646             []                []            []                []   \n",
      "21647             []                []            []                []   \n",
      "\n",
      "      percent_entities law_entities  \n",
      "0                   []           []  \n",
      "1                   []           []  \n",
      "2                   []           []  \n",
      "3                   []           []  \n",
      "4                   []           []  \n",
      "...                ...          ...  \n",
      "21643               []           []  \n",
      "21644               []           []  \n",
      "21645               []           []  \n",
      "21646               []           []  \n",
      "21647               []           []  \n",
      "\n",
      "[21648 rows x 27 columns]\n"
     ]
    }
   ],
   "source": [
    "from spacy.lang.en.stop_words import STOP_WORDS\n",
    "\n",
    "# Function to process text\n",
    "def process_entities(entities):\n",
    "    processed_entities = []\n",
    "    for entity in entities:\n",
    "        # Tokenization and lemmatization\n",
    "        doc = nlp(entity)\n",
    "        tokens = [token.lemma_ for token in doc]\n",
    "        # Stopword removal\n",
    "        tokens = [token for token in tokens if token.lower() not in STOP_WORDS]\n",
    "        processed_entities.extend(tokens)\n",
    "    return processed_entities\n",
    "\n",
    "# Process entities columns\n",
    "for entity_group in unique_entity_groups:\n",
    "    column_name = f\"{entity_group.lower()}_entities\"\n",
    "    df[column_name] = df[column_name].apply(lambda x: process_entities(x) if isinstance(x, list) else [])\n",
    "\n",
    "# Display the DataFrame with processed entities columns\n",
    "print(df[['product', 'category', 'sub_category', 'brand', 'sale_price', 'market_price', 'type', 'description', 'ner_entities'] + [f\"{entity_group.lower()}_entities\" for entity_group in unique_entity_groups]])\n"
   ]
  },
  {
   "cell_type": "code",
   "execution_count": 82,
   "id": "deaae96f-f2e4-4876-91ea-ff5c59872059",
   "metadata": {},
   "outputs": [
    {
     "name": "stdout",
     "output_type": "stream",
     "text": [
      "                                         product               category  \\\n",
      "0                                   Flour - Corn  foodgrains_oil_masala   \n",
      "1                              Veg. Burger Patty    snacks_brandedfoods   \n",
      "2                                 Dosa Rice/Akki  foodgrains_oil_masala   \n",
      "3                            Skimmed Milk Powder      gourmet_worldfood   \n",
      "4                                     Kiwi Drink      gourmet_worldfood   \n",
      "...                                          ...                    ...   \n",
      "21643  Tea Tree Anti Imperfection Daily Solution         beauty_hygiene   \n",
      "21644                  Intimate Lightening Serum         beauty_hygiene   \n",
      "21645    Paw'sitively Smooth Paw Butter For Dogs    kitchen_garden_pets   \n",
      "21646         Colorsilk Hair Colour With Keratin         beauty_hygiene   \n",
      "21647  Wet Mop - Micro Fiber Floor Square Refill     cleaning_household   \n",
      "\n",
      "               sub_category          brand  sale_price  market_price  \\\n",
      "0            organicstaples  organictattva       57.00          60.0   \n",
      "1      frozenveggies_snacks        yummiez      125.00         125.0   \n",
      "2         rice_riceproducts     supersaver      199.00         225.0   \n",
      "3       cooking_bakingneeds       puramate       58.50          65.0   \n",
      "4          drinks_beverages       alafresh       10.00          10.0   \n",
      "...                     ...            ...         ...           ...   \n",
      "21643              skincare       biotique      420.00         560.0   \n",
      "21644              skincare         namyaa      750.00         750.0   \n",
      "21645   petfood_accessories    captainzack      350.00         350.0   \n",
      "21646              haircare         revlon      413.25         435.0   \n",
      "21647   mops_brushes_scrubs           liao      239.00         395.0   \n",
      "\n",
      "                         type  \\\n",
      "0               organicflours   \n",
      "1             frozenvegsnacks   \n",
      "2                     rawrice   \n",
      "3      baking_cakedecorations   \n",
      "4        gourmetjuices_drinks   \n",
      "...                       ...   \n",
      "21643                facecare   \n",
      "21644       intimatewash_care   \n",
      "21645    petcleaning_grooming   \n",
      "21646               haircolor   \n",
      "21647             mops_wipers   \n",
      "\n",
      "                                             description  \\\n",
      "0                                       per calories fat   \n",
      "1      real good veg burger patty choice eating beefy...   \n",
      "2      rice dosa easy make premium dosa mix used make...   \n",
      "3      puramate skimmed milk powder makes wholesome m...   \n",
      "4      ala fresh kiwi fruit drink refreshing fruit dr...   \n",
      "...                                                  ...   \n",
      "21643  biotique tea tree anti imperfection daily solu...   \n",
      "21644  adore flawless skin wish perfect skin tone fee...   \n",
      "21645  paw sitively smooth protects lovely pooch paws...   \n",
      "21646  colorsilk ammonia permanent hair colour infuse...   \n",
      "21647  refill pack adjustable major brands light weig...   \n",
      "\n",
      "                                  ner_entities quantity_entities  ...  \\\n",
      "0                                           []              None  ...   \n",
      "1                             [(indian, NORP)]              None  ...   \n",
      "2      [(rice dosa, ORG), (idlis kanjis, ORG)]              None  ...   \n",
      "3                                           []              None  ...   \n",
      "4                [(ala, ORG), (thailand, GPE)]              None  ...   \n",
      "...                                        ...               ...  ...   \n",
      "21643                          [(daily, DATE)]              None  ...   \n",
      "21644                          [(weeks, DATE)]              None  ...   \n",
      "21645                                       []              None  ...   \n",
      "21646                [(tip colorsilk, PERSON)]              None  ...   \n",
      "21647                                       []              None  ...   \n",
      "\n",
      "      work_of_art_entities ordinal_entities fac_entities event_entities  \\\n",
      "0                     None             None         None           None   \n",
      "1                     None             None         None           None   \n",
      "2                     None             None         None           None   \n",
      "3                     None             None         None           None   \n",
      "4                     None             None         None           None   \n",
      "...                    ...              ...          ...            ...   \n",
      "21643                 None             None         None           None   \n",
      "21644                 None             None         None           None   \n",
      "21645                 None             None         None           None   \n",
      "21646                 None             None         None           None   \n",
      "21647                 None             None         None           None   \n",
      "\n",
      "      money_entities language_entities date_entities cardinal_entities  \\\n",
      "0               None              None          None              None   \n",
      "1               None              None          None              None   \n",
      "2               None              None          None              None   \n",
      "3               None              None          None              None   \n",
      "4               None              None          None              None   \n",
      "...              ...               ...           ...               ...   \n",
      "21643           None              None         daily              None   \n",
      "21644           None              None          week              None   \n",
      "21645           None              None          None              None   \n",
      "21646           None              None          None              None   \n",
      "21647           None              None          None              None   \n",
      "\n",
      "      percent_entities law_entities  \n",
      "0                 None         None  \n",
      "1                 None         None  \n",
      "2                 None         None  \n",
      "3                 None         None  \n",
      "4                 None         None  \n",
      "...                ...          ...  \n",
      "21643             None         None  \n",
      "21644             None         None  \n",
      "21645             None         None  \n",
      "21646             None         None  \n",
      "21647             None         None  \n",
      "\n",
      "[21648 rows x 27 columns]\n"
     ]
    }
   ],
   "source": [
    "# Remove brackets and quotes from the values in entity columns\n",
    "for entity_group in unique_entity_groups:\n",
    "    column_name = f\"{entity_group.lower()}_entities\"\n",
    "    df[column_name] = df[column_name].apply(lambda x: x[0] if len(x) > 0 else None)\n",
    "\n",
    "# Display the DataFrame with separate columns for each entity group\n",
    "print(df[['product', 'category', 'sub_category', 'brand', 'sale_price', 'market_price', 'type', 'description', 'ner_entities'] + [f\"{entity_group.lower()}_entities\" for entity_group in unique_entity_groups]])\n"
   ]
  },
  {
   "cell_type": "code",
   "execution_count": 83,
   "id": "0e37d95f-61b8-4915-ab71-e0be14151d59",
   "metadata": {},
   "outputs": [
    {
     "name": "stdout",
     "output_type": "stream",
     "text": [
      "                                         product               category  \\\n",
      "0                                   Flour - Corn  foodgrains_oil_masala   \n",
      "1                              Veg. Burger Patty    snacks_brandedfoods   \n",
      "2                                 Dosa Rice/Akki  foodgrains_oil_masala   \n",
      "3                            Skimmed Milk Powder      gourmet_worldfood   \n",
      "4                                     Kiwi Drink      gourmet_worldfood   \n",
      "...                                          ...                    ...   \n",
      "21643  Tea Tree Anti Imperfection Daily Solution         beauty_hygiene   \n",
      "21644                  Intimate Lightening Serum         beauty_hygiene   \n",
      "21645    Paw'sitively Smooth Paw Butter For Dogs    kitchen_garden_pets   \n",
      "21646         Colorsilk Hair Colour With Keratin         beauty_hygiene   \n",
      "21647  Wet Mop - Micro Fiber Floor Square Refill     cleaning_household   \n",
      "\n",
      "               sub_category          brand                    type  \\\n",
      "0            organicstaples  organictattva           organicflours   \n",
      "1      frozenveggies_snacks        yummiez         frozenvegsnacks   \n",
      "2         rice_riceproducts     supersaver                 rawrice   \n",
      "3       cooking_bakingneeds       puramate  baking_cakedecorations   \n",
      "4          drinks_beverages       alafresh    gourmetjuices_drinks   \n",
      "...                     ...            ...                     ...   \n",
      "21643              skincare       biotique                facecare   \n",
      "21644              skincare         namyaa       intimatewash_care   \n",
      "21645   petfood_accessories    captainzack    petcleaning_grooming   \n",
      "21646              haircare         revlon               haircolor   \n",
      "21647   mops_brushes_scrubs           liao             mops_wipers   \n",
      "\n",
      "                                             description  sale_price  \\\n",
      "0                                       per calories fat       57.00   \n",
      "1      real good veg burger patty choice eating beefy...      125.00   \n",
      "2      rice dosa easy make premium dosa mix used make...      199.00   \n",
      "3      puramate skimmed milk powder makes wholesome m...       58.50   \n",
      "4      ala fresh kiwi fruit drink refreshing fruit dr...       10.00   \n",
      "...                                                  ...         ...   \n",
      "21643  biotique tea tree anti imperfection daily solu...      420.00   \n",
      "21644  adore flawless skin wish perfect skin tone fee...      750.00   \n",
      "21645  paw sitively smooth protects lovely pooch paws...      350.00   \n",
      "21646  colorsilk ammonia permanent hair colour infuse...      413.25   \n",
      "21647  refill pack adjustable major brands light weig...      239.00   \n",
      "\n",
      "       market_price  negative  neutral  ...  work_of_art_entities  \\\n",
      "0              60.0     0.000    1.000  ...                  None   \n",
      "1             125.0     0.000    0.611  ...                  None   \n",
      "2             225.0     0.000    0.811  ...                  None   \n",
      "3              65.0     0.000    0.780  ...                  None   \n",
      "4              10.0     0.000    0.667  ...                  None   \n",
      "...             ...       ...      ...  ...                   ...   \n",
      "21643         560.0     0.122    0.635  ...                  None   \n",
      "21644         750.0     0.041    0.542  ...                  None   \n",
      "21645         350.0     0.000    0.705  ...                  None   \n",
      "21646         435.0     0.000    0.767  ...                  None   \n",
      "21647         395.0     0.000    1.000  ...                  None   \n",
      "\n",
      "       ordinal_entities  fac_entities  event_entities money_entities  \\\n",
      "0                  None          None            None           None   \n",
      "1                  None          None            None           None   \n",
      "2                  None          None            None           None   \n",
      "3                  None          None            None           None   \n",
      "4                  None          None            None           None   \n",
      "...                 ...           ...             ...            ...   \n",
      "21643              None          None            None           None   \n",
      "21644              None          None            None           None   \n",
      "21645              None          None            None           None   \n",
      "21646              None          None            None           None   \n",
      "21647              None          None            None           None   \n",
      "\n",
      "      language_entities date_entities cardinal_entities percent_entities  \\\n",
      "0                  None          None              None             None   \n",
      "1                  None          None              None             None   \n",
      "2                  None          None              None             None   \n",
      "3                  None          None              None             None   \n",
      "4                  None          None              None             None   \n",
      "...                 ...           ...               ...              ...   \n",
      "21643              None         daily              None             None   \n",
      "21644              None          week              None             None   \n",
      "21645              None          None              None             None   \n",
      "21646              None          None              None             None   \n",
      "21647              None          None              None             None   \n",
      "\n",
      "      law_entities  \n",
      "0             None  \n",
      "1             None  \n",
      "2             None  \n",
      "3             None  \n",
      "4             None  \n",
      "...            ...  \n",
      "21643         None  \n",
      "21644         None  \n",
      "21645         None  \n",
      "21646         None  \n",
      "21647         None  \n",
      "\n",
      "[21648 rows x 32 columns]\n"
     ]
    },
    {
     "data": {
      "text/plain": [
       "product                  object\n",
       "category                 object\n",
       "sub_category             object\n",
       "brand                    object\n",
       "type                     object\n",
       "description              object\n",
       "sale_price              float64\n",
       "market_price            float64\n",
       "negative                float64\n",
       "neutral                 float64\n",
       "positive                float64\n",
       "compound                float64\n",
       "sale_price_scaled       float64\n",
       "cluster_label             int64\n",
       "quantity_entities        object\n",
       "product_entities         object\n",
       "org_entities             object\n",
       "person_entities          object\n",
       "norp_entities            object\n",
       "gpe_entities             object\n",
       "loc_entities             object\n",
       "time_entities            object\n",
       "work_of_art_entities     object\n",
       "ordinal_entities         object\n",
       "fac_entities             object\n",
       "event_entities           object\n",
       "money_entities           object\n",
       "language_entities        object\n",
       "date_entities            object\n",
       "cardinal_entities        object\n",
       "percent_entities         object\n",
       "law_entities             object\n",
       "dtype: object"
      ]
     },
     "execution_count": 83,
     "metadata": {},
     "output_type": "execute_result"
    }
   ],
   "source": [
    "# Remove the ner_entities column from df\n",
    "df = df.drop(columns=['ner_entities'])\n",
    "\n",
    "# Display the DataFrame with processed entities columns and without the ner_entities column\n",
    "print(df)\n",
    "\n",
    "df.dtypes"
   ]
  },
  {
   "cell_type": "code",
   "execution_count": 84,
   "id": "a1e91bd8-0497-4578-852f-f9882d2e70ac",
   "metadata": {},
   "outputs": [],
   "source": [
    "# tfidf vectorizer\n",
    "tfidf=TfidfVectorizer()\n",
    "tfidf_description=tfidf.fit_transform(df['description'])"
   ]
  },
  {
   "cell_type": "code",
   "execution_count": 85,
   "id": "776632ef-96e7-47b7-a76a-7c12750c5183",
   "metadata": {},
   "outputs": [
    {
     "data": {
      "text/plain": [
       "product                  object\n",
       "category                 object\n",
       "sub_category             object\n",
       "brand                    object\n",
       "type                     object\n",
       "description              object\n",
       "sale_price              float64\n",
       "market_price            float64\n",
       "negative                float64\n",
       "neutral                 float64\n",
       "positive                float64\n",
       "compound                float64\n",
       "sale_price_scaled       float64\n",
       "cluster_label             int64\n",
       "quantity_entities        object\n",
       "product_entities         object\n",
       "org_entities             object\n",
       "person_entities          object\n",
       "norp_entities            object\n",
       "gpe_entities             object\n",
       "loc_entities             object\n",
       "time_entities            object\n",
       "work_of_art_entities     object\n",
       "ordinal_entities         object\n",
       "fac_entities             object\n",
       "event_entities           object\n",
       "money_entities           object\n",
       "language_entities        object\n",
       "date_entities            object\n",
       "cardinal_entities        object\n",
       "percent_entities         object\n",
       "law_entities             object\n",
       "dtype: object"
      ]
     },
     "execution_count": 85,
     "metadata": {},
     "output_type": "execute_result"
    }
   ],
   "source": [
    "df.dtypes"
   ]
  },
  {
   "cell_type": "code",
   "execution_count": 86,
   "id": "8ef583ff-7e34-4ae1-abb9-f389e6f18697",
   "metadata": {},
   "outputs": [],
   "source": [
    "# we are converting a dictionary with word as a key, and the idf as a value\n",
    "dictionary = dict(zip(tfidf.get_feature_names_out(), list(tfidf.idf_)))\n",
    "tfidf_words = set(tfidf.get_feature_names_out())\n"
   ]
  },
  {
   "cell_type": "code",
   "execution_count": 87,
   "id": "03a54291-6f91-4325-bf0d-3a37fe59dca4",
   "metadata": {},
   "outputs": [],
   "source": [
    "df1 = df.copy()"
   ]
  },
  {
   "cell_type": "code",
   "execution_count": 88,
   "id": "b25e11c7-b019-497f-80e6-971fa6a54250",
   "metadata": {},
   "outputs": [
    {
     "data": {
      "text/html": [
       "<div>\n",
       "<style scoped>\n",
       "    .dataframe tbody tr th:only-of-type {\n",
       "        vertical-align: middle;\n",
       "    }\n",
       "\n",
       "    .dataframe tbody tr th {\n",
       "        vertical-align: top;\n",
       "    }\n",
       "\n",
       "    .dataframe thead th {\n",
       "        text-align: right;\n",
       "    }\n",
       "</style>\n",
       "<table border=\"1\" class=\"dataframe\">\n",
       "  <thead>\n",
       "    <tr style=\"text-align: right;\">\n",
       "      <th></th>\n",
       "      <th>product</th>\n",
       "      <th>category</th>\n",
       "      <th>sub_category</th>\n",
       "      <th>brand</th>\n",
       "      <th>type</th>\n",
       "      <th>description</th>\n",
       "      <th>sale_price</th>\n",
       "      <th>market_price</th>\n",
       "      <th>negative</th>\n",
       "      <th>neutral</th>\n",
       "      <th>...</th>\n",
       "      <th>work_of_art_entities</th>\n",
       "      <th>ordinal_entities</th>\n",
       "      <th>fac_entities</th>\n",
       "      <th>event_entities</th>\n",
       "      <th>money_entities</th>\n",
       "      <th>language_entities</th>\n",
       "      <th>date_entities</th>\n",
       "      <th>cardinal_entities</th>\n",
       "      <th>percent_entities</th>\n",
       "      <th>law_entities</th>\n",
       "    </tr>\n",
       "  </thead>\n",
       "  <tbody>\n",
       "    <tr>\n",
       "      <th>0</th>\n",
       "      <td>Flour - Corn</td>\n",
       "      <td>foodgrains_oil_masala</td>\n",
       "      <td>organicstaples</td>\n",
       "      <td>organictattva</td>\n",
       "      <td>organicflours</td>\n",
       "      <td>per calories fat</td>\n",
       "      <td>57.0</td>\n",
       "      <td>60.0</td>\n",
       "      <td>0.0</td>\n",
       "      <td>1.000</td>\n",
       "      <td>...</td>\n",
       "      <td>None</td>\n",
       "      <td>None</td>\n",
       "      <td>None</td>\n",
       "      <td>None</td>\n",
       "      <td>None</td>\n",
       "      <td>None</td>\n",
       "      <td>None</td>\n",
       "      <td>None</td>\n",
       "      <td>None</td>\n",
       "      <td>None</td>\n",
       "    </tr>\n",
       "    <tr>\n",
       "      <th>1</th>\n",
       "      <td>Veg. Burger Patty</td>\n",
       "      <td>snacks_brandedfoods</td>\n",
       "      <td>frozenveggies_snacks</td>\n",
       "      <td>yummiez</td>\n",
       "      <td>frozenvegsnacks</td>\n",
       "      <td>real good veg burger patty choice eating beefy...</td>\n",
       "      <td>125.0</td>\n",
       "      <td>125.0</td>\n",
       "      <td>0.0</td>\n",
       "      <td>0.611</td>\n",
       "      <td>...</td>\n",
       "      <td>None</td>\n",
       "      <td>None</td>\n",
       "      <td>None</td>\n",
       "      <td>None</td>\n",
       "      <td>None</td>\n",
       "      <td>None</td>\n",
       "      <td>None</td>\n",
       "      <td>None</td>\n",
       "      <td>None</td>\n",
       "      <td>None</td>\n",
       "    </tr>\n",
       "    <tr>\n",
       "      <th>2</th>\n",
       "      <td>Dosa Rice/Akki</td>\n",
       "      <td>foodgrains_oil_masala</td>\n",
       "      <td>rice_riceproducts</td>\n",
       "      <td>supersaver</td>\n",
       "      <td>rawrice</td>\n",
       "      <td>rice dosa easy make premium dosa mix used make...</td>\n",
       "      <td>199.0</td>\n",
       "      <td>225.0</td>\n",
       "      <td>0.0</td>\n",
       "      <td>0.811</td>\n",
       "      <td>...</td>\n",
       "      <td>None</td>\n",
       "      <td>None</td>\n",
       "      <td>None</td>\n",
       "      <td>None</td>\n",
       "      <td>None</td>\n",
       "      <td>None</td>\n",
       "      <td>None</td>\n",
       "      <td>None</td>\n",
       "      <td>None</td>\n",
       "      <td>None</td>\n",
       "    </tr>\n",
       "    <tr>\n",
       "      <th>3</th>\n",
       "      <td>Skimmed Milk Powder</td>\n",
       "      <td>gourmet_worldfood</td>\n",
       "      <td>cooking_bakingneeds</td>\n",
       "      <td>puramate</td>\n",
       "      <td>baking_cakedecorations</td>\n",
       "      <td>puramate skimmed milk powder makes wholesome m...</td>\n",
       "      <td>58.5</td>\n",
       "      <td>65.0</td>\n",
       "      <td>0.0</td>\n",
       "      <td>0.780</td>\n",
       "      <td>...</td>\n",
       "      <td>None</td>\n",
       "      <td>None</td>\n",
       "      <td>None</td>\n",
       "      <td>None</td>\n",
       "      <td>None</td>\n",
       "      <td>None</td>\n",
       "      <td>None</td>\n",
       "      <td>None</td>\n",
       "      <td>None</td>\n",
       "      <td>None</td>\n",
       "    </tr>\n",
       "    <tr>\n",
       "      <th>4</th>\n",
       "      <td>Kiwi Drink</td>\n",
       "      <td>gourmet_worldfood</td>\n",
       "      <td>drinks_beverages</td>\n",
       "      <td>alafresh</td>\n",
       "      <td>gourmetjuices_drinks</td>\n",
       "      <td>ala fresh kiwi fruit drink refreshing fruit dr...</td>\n",
       "      <td>10.0</td>\n",
       "      <td>10.0</td>\n",
       "      <td>0.0</td>\n",
       "      <td>0.667</td>\n",
       "      <td>...</td>\n",
       "      <td>None</td>\n",
       "      <td>None</td>\n",
       "      <td>None</td>\n",
       "      <td>None</td>\n",
       "      <td>None</td>\n",
       "      <td>None</td>\n",
       "      <td>None</td>\n",
       "      <td>None</td>\n",
       "      <td>None</td>\n",
       "      <td>None</td>\n",
       "    </tr>\n",
       "  </tbody>\n",
       "</table>\n",
       "<p>5 rows × 32 columns</p>\n",
       "</div>"
      ],
      "text/plain": [
       "               product               category          sub_category  \\\n",
       "0         Flour - Corn  foodgrains_oil_masala        organicstaples   \n",
       "1    Veg. Burger Patty    snacks_brandedfoods  frozenveggies_snacks   \n",
       "2       Dosa Rice/Akki  foodgrains_oil_masala     rice_riceproducts   \n",
       "3  Skimmed Milk Powder      gourmet_worldfood   cooking_bakingneeds   \n",
       "4           Kiwi Drink      gourmet_worldfood      drinks_beverages   \n",
       "\n",
       "           brand                    type  \\\n",
       "0  organictattva           organicflours   \n",
       "1        yummiez         frozenvegsnacks   \n",
       "2     supersaver                 rawrice   \n",
       "3       puramate  baking_cakedecorations   \n",
       "4       alafresh    gourmetjuices_drinks   \n",
       "\n",
       "                                         description  sale_price  \\\n",
       "0                                   per calories fat        57.0   \n",
       "1  real good veg burger patty choice eating beefy...       125.0   \n",
       "2  rice dosa easy make premium dosa mix used make...       199.0   \n",
       "3  puramate skimmed milk powder makes wholesome m...        58.5   \n",
       "4  ala fresh kiwi fruit drink refreshing fruit dr...        10.0   \n",
       "\n",
       "   market_price  negative  neutral  ...  work_of_art_entities  \\\n",
       "0          60.0       0.0    1.000  ...                  None   \n",
       "1         125.0       0.0    0.611  ...                  None   \n",
       "2         225.0       0.0    0.811  ...                  None   \n",
       "3          65.0       0.0    0.780  ...                  None   \n",
       "4          10.0       0.0    0.667  ...                  None   \n",
       "\n",
       "   ordinal_entities  fac_entities  event_entities money_entities  \\\n",
       "0              None          None            None           None   \n",
       "1              None          None            None           None   \n",
       "2              None          None            None           None   \n",
       "3              None          None            None           None   \n",
       "4              None          None            None           None   \n",
       "\n",
       "  language_entities date_entities cardinal_entities percent_entities  \\\n",
       "0              None          None              None             None   \n",
       "1              None          None              None             None   \n",
       "2              None          None              None             None   \n",
       "3              None          None              None             None   \n",
       "4              None          None              None             None   \n",
       "\n",
       "  law_entities  \n",
       "0         None  \n",
       "1         None  \n",
       "2         None  \n",
       "3         None  \n",
       "4         None  \n",
       "\n",
       "[5 rows x 32 columns]"
      ]
     },
     "execution_count": 88,
     "metadata": {},
     "output_type": "execute_result"
    }
   ],
   "source": [
    "df1.head()"
   ]
  },
  {
   "cell_type": "markdown",
   "id": "5d6b2a7e-1113-4b08-9839-8c13dd2cf336",
   "metadata": {},
   "source": [
    "### TF-IDF Vectorization"
   ]
  },
  {
   "cell_type": "code",
   "execution_count": 89,
   "id": "24d2e6cf-44bb-461a-a46b-20131c11da6e",
   "metadata": {},
   "outputs": [
    {
     "name": "stdout",
     "output_type": "stream",
     "text": [
      "Shape of TF-IDF matrix: (21648, 30220)\n"
     ]
    },
    {
     "name": "stderr",
     "output_type": "stream",
     "text": [
      "100%|███████████████████████████████████████████████████████████████████████████| 21648/21648 [00:32<00:00, 657.79it/s]\n"
     ]
    }
   ],
   "source": [
    "import numpy as np\n",
    "from sklearn.feature_extraction.text import TfidfVectorizer\n",
    "from tqdm import tqdm\n",
    "\n",
    "# Fill missing values with empty strings in entity group columns\n",
    "entity_group_columns = ['org_entities', 'product_entities', 'loc_entities', 'ordinal_entities', 'date_entities', 'person_entities', 'norp_entities', 'cardinal_entities', 'gpe_entities', 'time_entities', 'fac_entities']\n",
    "df1[entity_group_columns] = df1[entity_group_columns].fillna('')\n",
    "\n",
    "# Concatenate product, category, and subcategory columns with the description column\n",
    "df1['text'] = df1['description'] + \" \" + df1['org_entities'] + \" \" + df1['product_entities'] + \" \" + df1['loc_entities'] + \" \" + df1['ordinal_entities'] + \" \" + df1['date_entities'] + \" \" + df1['person_entities'] + \" \" + df1['norp_entities'] + \" \" + df1['cardinal_entities'] + \" \" + df1['gpe_entities'] + \" \" + df1['time_entities'] + \" \" + df1['fac_entities']+ \" \" + \" \" + df1['category'] + \" \" + df1['sub_category'] + df1['brand'] + df1['type']\n",
    "\n",
    "# Initialize TF-IDF vectorizer\n",
    "tfidf_vectorizer = TfidfVectorizer()\n",
    "\n",
    "# Fit and transform the text data to obtain TF-IDF vectors\n",
    "tfidf_matrix = tfidf_vectorizer.fit_transform(df1['text'])\n",
    "\n",
    "# Display the shape of the TF-IDF matrix\n",
    "print(\"Shape of TF-IDF matrix:\", tfidf_matrix.shape)\n",
    "\n",
    "# Calculate TF-IDF weighted GloVe vectors for each description\n",
    "description_tfidf_w2v_vectors = []\n",
    "for description in tqdm(df['description']): # for each description\n",
    "    vectors = [] # store GloVe vectors for words in the description\n",
    "    tf_idf_weights = [] # store TF-IDF weights for words in the description\n",
    "    for word in description.split(): # for each word in description\n",
    "        if (word in glove_vectors) and (word in tfidf_vectorizer.vocabulary_):\n",
    "            vec = np.array(glove_vectors[word]) # getting the vector for each word\n",
    "            tf_idf_index = tfidf_vectorizer.vocabulary_[word] # get the index of the word in the TF-IDF matrix\n",
    "            tf_idf = tfidf_matrix[0, tf_idf_index] # get the TF-IDF value for the word\n",
    "            vectors.append(vec)\n",
    "            tf_idf_weights.append(tf_idf)\n",
    "    if vectors:\n",
    "        vectors = np.array(vectors)\n",
    "        tf_idf_weights = np.array(tf_idf_weights)\n",
    "        weighted_vectors = vectors * tf_idf_weights[:, np.newaxis] # apply TF-IDF weights to GloVe vectors\n",
    "        avg_vector = np.mean(weighted_vectors, axis=0) # compute the average weighted GloVe vector\n",
    "        description_tfidf_w2v_vectors.append(avg_vector)\n",
    "    else:\n",
    "        description_tfidf_w2v_vectors.append(np.zeros(300)) # handle case when no valid GloVe vectors are found\n",
    "\n",
    "\n",
    "# Step 6: Store TF-IDF weighted Word2Vec vectors\n",
    "df1['description_tfidf_w2v'] = description_tfidf_w2v_vectors\n"
   ]
  },
  {
   "cell_type": "code",
   "execution_count": 90,
   "id": "ec3b815a-cace-466d-91a6-8f805e549aaa",
   "metadata": {},
   "outputs": [],
   "source": [
    "# stacking all encoded categorical features, vectorized description text and scaled sael price,discount% and sentiment scores\n",
    "X_train=np.hstack((description_tfidf_w2v_vectors,df1['category'].values.reshape(-1,1),df1['sub_category'].values.reshape(-1,1),df1['brand'].values.reshape(-1,1), \\\n",
    "                  df1['type'].values.reshape(-1,1),df1['sale_price_scaled'].values.reshape(-1,1), \\\n",
    "                  df1['negative'].values.reshape(-1,1),df1['neutral'].values.reshape(-1,1),df1['positive'].values.reshape(-1,1), \\\n",
    "                  df1['compound'].values.reshape(-1,1),df1['cluster_label'].values.reshape(-1,1)))"
   ]
  },
  {
   "cell_type": "code",
   "execution_count": 91,
   "id": "fb0bb348-aee2-42b8-8cc4-82504728edb7",
   "metadata": {},
   "outputs": [
    {
     "data": {
      "text/plain": [
       "(21648, 60)"
      ]
     },
     "execution_count": 91,
     "metadata": {},
     "output_type": "execute_result"
    }
   ],
   "source": [
    "X_train.shape"
   ]
  },
  {
   "cell_type": "code",
   "execution_count": 99,
   "id": "c6a87084-2463-41f3-aa66-ba5aca8b9ed5",
   "metadata": {},
   "outputs": [],
   "source": [
    "# function to get sentiment scores \n",
    "from nltk.sentiment.vader import SentimentIntensityAnalyzer\n",
    "\n",
    "def get_scores(data):\n",
    "    \"\"\"returns sentiment analysis scores for description feature\"\"\"\n",
    "    sia=SentimentIntensityAnalyzer()\n",
    "    \n",
    "    negative=[]\n",
    "    neu=[]\n",
    "    pos=[]\n",
    "    compound=[]\n",
    "    if 'description' in data.columns:\n",
    "        for value in (data['description']):\n",
    "            i=sia.polarity_scores(value)['neg']\n",
    "            j=sia.polarity_scores(value)['neu']\n",
    "            k=sia.polarity_scores(value)['pos']\n",
    "            l=sia.polarity_scores(value)['compound']\n",
    "            \n",
    "            negative.append(i)\n",
    "            neu.append(j)\n",
    "            pos.append(k)\n",
    "            compound.append(l)\n",
    "            \n",
    "    data['negative']=negative\n",
    "    data['neutral']=neu\n",
    "    data['positive']=pos\n",
    "    data['compound']=compound\n",
    "    \n",
    "    return data       "
   ]
  },
  {
   "cell_type": "code",
   "execution_count": 94,
   "id": "11014e56-f180-4963-b87f-c2837f07cf53",
   "metadata": {},
   "outputs": [],
   "source": [
    "import numpy as np\n",
    "import sys\n",
    "\n",
    "def get_clusterlabel(X, means=cluster_centers):\n",
    "    \"\"\"Compute cluster label based on the nearest mean.\"\"\"\n",
    "    minimum = sys.maxsize\n",
    "    index = -1\n",
    "    \n",
    "    for i in range(len(means)):\n",
    "        if isinstance(X, list):\n",
    "            X_array = np.array(X)\n",
    "        else:\n",
    "            X_array = X.values.reshape(1, -1)\n",
    "        \n",
    "        sum_squared_diff = 0\n",
    "        for j in range(len(X_array)):\n",
    "            diff = X_array[j] - means[i][j]\n",
    "            sum_squared_diff += diff * diff\n",
    "        \n",
    "        euclidean_dist = np.sqrt(sum_squared_diff)\n",
    "        \n",
    "        if euclidean_dist < minimum:\n",
    "            minimum = euclidean_dist\n",
    "            index = i\n",
    "            \n",
    "    return index\n"
   ]
  },
  {
   "cell_type": "markdown",
   "id": "4e010cfe-d51a-4fdf-bd76-e25111c00f95",
   "metadata": {},
   "source": [
    "### Recommending products"
   ]
  },
  {
   "cell_type": "code",
   "execution_count": 92,
   "id": "dc583b66-bcf6-4863-80eb-9af9024f0297",
   "metadata": {},
   "outputs": [],
   "source": [
    "from sklearn.metrics.pairwise import linear_kernel\n",
    "\n",
    "def get_similar_products(df1, user_input, X_train=X_train, num_results=5):\n",
    "    # Convert user_input to string if it's not already\n",
    "    user_input = str(user_input)\n",
    "\n",
    "    # Filter DataFrame based on user input (category, subcategory, type, or brand)\n",
    "    filtered_df = df1[(df1['category'].str.contains(user_input)) |\n",
    "                      (df1['sub_category'].str.contains(user_input)) |\n",
    "                      (df1['brand'] == user_input) |\n",
    "                      (df1['type'] == user_input)]\n",
    "\n",
    "    if filtered_df.empty:\n",
    "        return \"No products found for the specified input.\"\n",
    "\n",
    "    # Compute cosine similarities using linear kernel\n",
    "    cosine_sim = linear_kernel(tfidf_matrix, tfidf_matrix)\n",
    "\n",
    "    # Step 2: Compute average similarity scores for filtered products\n",
    "    avg_similarity_scores = cosine_sim[filtered_df.index].mean(axis=0)\n",
    "\n",
    "    # Step 3: Get indices of top 5 products with highest average similarity scores\n",
    "    top_5_indices = avg_similarity_scores.argsort()[::-1][:5]\n",
    "\n",
    "    # Step 4: Get product titles of top 5 recommended products within the filtered category, subcategory, or brand\n",
    "    top_5_products = df1.iloc[top_5_indices]['product'].tolist()\n",
    "\n",
    "    return top_5_products\n"
   ]
  },
  {
   "cell_type": "code",
   "execution_count": 93,
   "id": "0791ba04-c067-47a1-b491-72fd75f6f3a6",
   "metadata": {},
   "outputs": [
    {
     "name": "stdin",
     "output_type": "stream",
     "text": [
      "Enter category, subcategory, brand, or type:  nivea\n"
     ]
    },
    {
     "name": "stdout",
     "output_type": "stream",
     "text": [
      "Top 5 similar products:\n",
      "1. Crème Care Women Body Wash - Shower Gel For Soft Skin\n",
      "2. Creme Care Soap - For Hands & Body\n",
      "3. Soap - Creme Care\n",
      "4. Women Deodorant, Protect & Care, Non-Irritating & 48h Protection With Creme Fragrance\n",
      "5. Women Deodorant, Protect & Care, Non-Irritating & 48h Protection With Creme Fragrance\n"
     ]
    }
   ],
   "source": [
    "# Prompt the user to enter their input\n",
    "user_input = input(\"Enter category, subcategory, brand, or type: \")\n",
    "\n",
    "# Call the function with the user input\n",
    "similar_products = get_similar_products(df1, user_input, X_train, num_results=5)\n",
    "\n",
    "# Print the results\n",
    "print(\"Top 5 similar products:\")\n",
    "for i, product in enumerate(similar_products, start=1):\n",
    "    print(f\"{i}. {product}\")\n"
   ]
  },
  {
   "cell_type": "code",
   "execution_count": 96,
   "id": "e8d6c24d-8042-42fe-83af-9c5b52187923",
   "metadata": {},
   "outputs": [],
   "source": [
    "from sklearn.preprocessing import MinMaxScaler\n",
    "import sys\n",
    "from sklearn.preprocessing import LabelEncoder\n",
    "from sklearn.metrics.pairwise import cosine_similarity\n",
    "from sklearn.metrics.pairwise import linear_kernel\n",
    "\n",
    "def get_similar_products_1(df1, user_input, X_train=X_train, num_results=5):\n",
    "    # Convert user_input to string if it's not already\n",
    "    user_input = str(user_input)\n",
    "\n",
    "    # Filter DataFrame based on user input (category, subcategory, type, or brand)\n",
    "    filtered_df = df1[(df1['category'].str.contains(user_input)) |\n",
    "                      (df1['sub_category'].str.contains(user_input)) |\n",
    "                      (df1['brand'] == user_input) |\n",
    "                      (df1['type'] == user_input)]\n",
    "\n",
    "    if filtered_df.empty:\n",
    "        return \"No products found for the specified input.\"\n",
    "\n",
    "    # Compute cosine similarities using linear kernel\n",
    "    cosine_sim = linear_kernel(tfidf_matrix, tfidf_matrix)\n",
    "\n",
    "    # Step 2: Compute average similarity scores for filtered products\n",
    "    avg_similarity_scores = cosine_sim[filtered_df.index].mean(axis=0)\n",
    "\n",
    "    # Step 3: Get indices of top 10 products with highest average similarity scores\n",
    "    top_10_indices = avg_similarity_scores.argsort()[::-1][:10]\n",
    "\n",
    "    # Step 4: Get product titles of top 10 recommended products within the filtered category, subcategory, or brand\n",
    "    top_10_products = df1.iloc[top_10_indices]['product'].tolist()\n",
    "\n",
    "    return top_10_products\n"
   ]
  },
  {
   "cell_type": "code",
   "execution_count": 101,
   "id": "e174bed1-0740-42a8-a837-c47a857a0998",
   "metadata": {},
   "outputs": [
    {
     "name": "stdin",
     "output_type": "stream",
     "text": [
      "Enter category, subcategory, brand, or type:  nivea\n"
     ]
    },
    {
     "name": "stdout",
     "output_type": "stream",
     "text": [
      "Top 10 products based on user input:\n",
      "1. Soap - Creme Care\n",
      "2. Creme Care Soap - For Hands & Body\n",
      "3. Soft Light Moisturiser For Face, Hand & Body - Non-Sticky Cream With Vitamin E & Jojoba Oil\n",
      "4. Soft - Light Moisturiser With Vitamin E\n",
      "5. Crème Care Women Body Wash - Shower Gel For Soft Skin\n",
      "6. Aloe Protection Body Lotion - SPF 15, For Men & Women\n",
      "7. Women Deodorant, Protect & Care, Non-Irritating & 48h Protection With Creme Fragrance\n",
      "8. Soft Light Moisturising Cream - Chilled Mint\n",
      "\n",
      "Top 5 unique products after sentiment score analysis:\n",
      "1. Creme Care Soap - For Hands & Body\n",
      "2. Soap - Creme Care\n",
      "3. Soft Light Moisturising Cream - Chilled Mint\n",
      "4. Soft Light Moisturiser For Face, Hand & Body - Non-Sticky Cream With Vitamin E & Jojoba Oil\n",
      "5. Crème Care Women Body Wash - Shower Gel For Soft Skin\n"
     ]
    }
   ],
   "source": [
    "# Prompt the user to enter their input\n",
    "user_input = input(\"Enter category, subcategory, brand, or type: \")\n",
    "\n",
    "# Get the top 10 products based on user input\n",
    "top_10_products = get_similar_products_1(df1, user_input, X_train, num_results=10)\n",
    "\n",
    "# Remove duplicates from the top 10 products list\n",
    "unique_top_10_products = list(set(top_10_products))\n",
    "\n",
    "# Print the top 10 products\n",
    "print(\"Top 10 products based on user input:\")\n",
    "for i, product in enumerate(unique_top_10_products, start=1):\n",
    "    print(f\"{i}. {product}\")\n",
    "\n",
    "# Apply sentiment score analysis to get the top 5 unique products\n",
    "top_10_df = df1[df1['product'].isin(unique_top_10_products)]  # Subset DataFrame to include only unique top 10 products\n",
    "top_10_df_with_scores = get_scores(top_10_df)  # Apply sentiment score analysis to top 10 products\n",
    "\n",
    "# Sort top 10 products by compound sentiment score\n",
    "top_10_df_sorted = top_10_df_with_scores.sort_values(by='compound', ascending=False)\n",
    "\n",
    "# Get the final top 5 unique products after sorting by sentiment score\n",
    "top_5_products = top_10_df_sorted['product'].unique()[:5]\n",
    "\n",
    "# Print the top 5 unique products after sentiment score analysis\n",
    "print(\"\\nTop 5 unique products after sentiment score analysis:\")\n",
    "for i, product in enumerate(top_5_products, start=1):\n",
    "    print(f\"{i}. {product}\")"
   ]
  }
 ],
 "metadata": {
  "kernelspec": {
   "display_name": "Python 3 (ipykernel)",
   "language": "python",
   "name": "python3"
  },
  "language_info": {
   "codemirror_mode": {
    "name": "ipython",
    "version": 3
   },
   "file_extension": ".py",
   "mimetype": "text/x-python",
   "name": "python",
   "nbconvert_exporter": "python",
   "pygments_lexer": "ipython3",
   "version": "3.12.1"
  }
 },
 "nbformat": 4,
 "nbformat_minor": 5
}
